{
  "nbformat": 4,
  "nbformat_minor": 0,
  "metadata": {
    "colab": {
      "name": "Cherono_Independent Project _Week 6.ipynb",
      "provenance": [],
      "collapsed_sections": [],
      "machine_shape": "hm",
      "include_colab_link": true
    },
    "kernelspec": {
      "name": "python3",
      "display_name": "Python 3"
    },
    "accelerator": "GPU"
  },
  "cells": [
    {
      "cell_type": "markdown",
      "metadata": {
        "id": "view-in-github",
        "colab_type": "text"
      },
      "source": [
        "<a href=\"https://colab.research.google.com/github/CheronoK/Football-Analysis-IP/blob/master/Cherono_Independent_Project__Week_6.ipynb\" target=\"_parent\"><img src=\"https://colab.research.google.com/assets/colab-badge.svg\" alt=\"Open In Colab\"/></a>"
      ]
    },
    {
      "cell_type": "markdown",
      "metadata": {
        "id": "4cbgwZWWfWpp",
        "colab_type": "text"
      },
      "source": [
        "# Football Analysis for MchezoPesa Ltd"
      ]
    },
    {
      "cell_type": "markdown",
      "metadata": {
        "id": "Jz4RgEqh6RQY",
        "colab_type": "text"
      },
      "source": [
        "## 1. Defining the Question"
      ]
    },
    {
      "cell_type": "markdown",
      "metadata": {
        "id": "oAkvUkhC6VeX",
        "colab_type": "text"
      },
      "source": [
        "### a) Specifying the Question"
      ]
    },
    {
      "cell_type": "markdown",
      "metadata": {
        "id": "KaImMA_36Yhf",
        "colab_type": "text"
      },
      "source": [
        "You have been recruited as a football analyst in a company - Mchezopesa Ltd and tasked to accomplish the task below.\n",
        "\n",
        "A prediction result of a game between team 1 and team 2, based on who's home and who's away, and on whether or not the game is friendly (include rank in your training)."
      ]
    },
    {
      "cell_type": "markdown",
      "metadata": {
        "id": "yUV6doFE9KSh",
        "colab_type": "text"
      },
      "source": [
        "You have two possible approaches (as  shown below) given the datasets that will be provided\n",
        "\n",
        "Input: Home team, Away team, Tournament type (World cup, Friendly, Other)\n",
        "\n",
        "### Approach 1: Polynomial approach\n",
        "\n",
        "What to train given:\n",
        "\n",
        "Rank of home team\n",
        "Rank of away team\n",
        "Tournament type\n",
        "\n",
        "Model 1: Predict how many goals the home team scores.\n",
        "\n",
        "Model 2: Predict how many goals the away team scores.\n",
        "\n",
        "### Approach 2: Logistic approach\n",
        "\n",
        "Feature Engineering: Figure out from the home team’s perspective if the game is a Win, Lose or Draw (W, L, D)"
      ]
    },
    {
      "cell_type": "markdown",
      "metadata": {
        "id": "11-XBl9U6cfM",
        "colab_type": "text"
      },
      "source": [
        "### b) Defining the Metric for Success"
      ]
    },
    {
      "cell_type": "markdown",
      "metadata": {
        "id": "sHnv9bhx9gc0",
        "colab_type": "text"
      },
      "source": [
        "The success of this analysis will be determined by :\n",
        "\n",
        "\n",
        "*   Creating 2 models that predict goals for the home team and away team respectively \n",
        "*   Creating a model that figures out whether the home team wins, loses or draws\n",
        "\n"
      ]
    },
    {
      "cell_type": "markdown",
      "metadata": {
        "id": "ff70G2uB6gj7",
        "colab_type": "text"
      },
      "source": [
        "### c) Understanding the context "
      ]
    },
    {
      "cell_type": "markdown",
      "metadata": {
        "id": "3kw0gY2k_ftH",
        "colab_type": "text"
      },
      "source": [
        "The men's FIFA World Ranking is a ranking system for men's national teams in association football, currently led by Belgium. The teams of the men's member nations of FIFA, football's world governing body, are ranked based on their game results with the most successful teams being ranked highest. The rankings were introduced in December 1992, and eight teams (Argentina, Belgium, Brazil, France, Germany, Italy, the Netherlands and Spain) have held the top position, of which Brazil have spent the longest ranked first.\n",
        "\n",
        "A points system is used, with points being awarded based on the results of all FIFA-recognised full international matches."
      ]
    },
    {
      "cell_type": "markdown",
      "metadata": {
        "id": "CD0T7lsL6kWN",
        "colab_type": "text"
      },
      "source": [
        "### d) Recording the Experimental Design"
      ]
    },
    {
      "cell_type": "markdown",
      "metadata": {
        "id": "WCJ823ej_rJW",
        "colab_type": "text"
      },
      "source": [
        "The following are the steps taken to implement the answer:\n",
        "* Define the question, the metric for success, the context, experimental design taken and the appropriateness of the available data to answer the given question.\n",
        "\n",
        "* Perform EDA.\n",
        "* Perform any necessary feature engineering.\n",
        "* Check of multicollinearity.\n",
        "* Start building the model.\n",
        "* Cross-validate the model.\n",
        "* Compute RMSE.\n",
        "* Create residual plots for your models, and assess their heteroscedasticity using Bartlett’s test.\n",
        "* Perform appropriate regressions on the data including your justification.\n",
        "* Challenge your solution by providing insights on how you can make improvements."
      ]
    },
    {
      "cell_type": "markdown",
      "metadata": {
        "id": "5tElt3vb6oBz",
        "colab_type": "text"
      },
      "source": [
        "### e) Data Relevance"
      ]
    },
    {
      "cell_type": "markdown",
      "metadata": {
        "id": "DjDKeEVuASRa",
        "colab_type": "text"
      },
      "source": [
        "The data provided is very relevant and widely covers the requirements of this particular analysis."
      ]
    },
    {
      "cell_type": "markdown",
      "metadata": {
        "id": "nlbZHDZ16rtv",
        "colab_type": "text"
      },
      "source": [
        "## 2. Reading the Data\n",
        "\n",
        "Dataset ~ https://drive.google.com/file/d/1BYUqaEEnFtAe5lvzJh9lpVpR2MAvERUc/view"
      ]
    },
    {
      "cell_type": "markdown",
      "metadata": {
        "id": "L_0ZeP4C6u2M",
        "colab_type": "text"
      },
      "source": [
        "### a.) Importing Libraries"
      ]
    },
    {
      "cell_type": "code",
      "metadata": {
        "id": "CJDAbxU_6Q2I",
        "colab_type": "code",
        "colab": {}
      },
      "source": [
        "import pandas as pd\n",
        "import numpy as np\n",
        "import matplotlib\n",
        "from matplotlib import pyplot as plt\n",
        "import seaborn as sns\n",
        "\n",
        "from sklearn.preprocessing import PolynomialFeatures\n",
        "\n",
        "from sklearn.model_selection import train_test_split\n",
        "\n",
        "from sklearn.linear_model import LinearRegression"
      ],
      "execution_count": 467,
      "outputs": []
    },
    {
      "cell_type": "markdown",
      "metadata": {
        "id": "hOP1A7x263Oz",
        "colab_type": "text"
      },
      "source": [
        "### b.) Loading the datasets"
      ]
    },
    {
      "cell_type": "code",
      "metadata": {
        "id": "tAb77yZ9fzMG",
        "colab_type": "code",
        "colab": {
          "base_uri": "https://localhost:8080/",
          "height": 301
        },
        "outputId": "c965deab-19e5-4915-cc6a-bbf6ebe243d0"
      },
      "source": [
        "#Loading the ranks dataset\n",
        "rank = pd.read_csv('fifa_ranking.csv')\n",
        "rank.head()"
      ],
      "execution_count": 468,
      "outputs": [
        {
          "output_type": "execute_result",
          "data": {
            "text/html": [
              "<div>\n",
              "<style scoped>\n",
              "    .dataframe tbody tr th:only-of-type {\n",
              "        vertical-align: middle;\n",
              "    }\n",
              "\n",
              "    .dataframe tbody tr th {\n",
              "        vertical-align: top;\n",
              "    }\n",
              "\n",
              "    .dataframe thead th {\n",
              "        text-align: right;\n",
              "    }\n",
              "</style>\n",
              "<table border=\"1\" class=\"dataframe\">\n",
              "  <thead>\n",
              "    <tr style=\"text-align: right;\">\n",
              "      <th></th>\n",
              "      <th>rank</th>\n",
              "      <th>country_full</th>\n",
              "      <th>country_abrv</th>\n",
              "      <th>total_points</th>\n",
              "      <th>previous_points</th>\n",
              "      <th>rank_change</th>\n",
              "      <th>cur_year_avg</th>\n",
              "      <th>cur_year_avg_weighted</th>\n",
              "      <th>last_year_avg</th>\n",
              "      <th>last_year_avg_weighted</th>\n",
              "      <th>two_year_ago_avg</th>\n",
              "      <th>two_year_ago_weighted</th>\n",
              "      <th>three_year_ago_avg</th>\n",
              "      <th>three_year_ago_weighted</th>\n",
              "      <th>confederation</th>\n",
              "      <th>rank_date</th>\n",
              "    </tr>\n",
              "  </thead>\n",
              "  <tbody>\n",
              "    <tr>\n",
              "      <th>0</th>\n",
              "      <td>1</td>\n",
              "      <td>Germany</td>\n",
              "      <td>GER</td>\n",
              "      <td>0.0</td>\n",
              "      <td>57</td>\n",
              "      <td>0</td>\n",
              "      <td>0.0</td>\n",
              "      <td>0.0</td>\n",
              "      <td>0.0</td>\n",
              "      <td>0.0</td>\n",
              "      <td>0.0</td>\n",
              "      <td>0.0</td>\n",
              "      <td>0.0</td>\n",
              "      <td>0.0</td>\n",
              "      <td>UEFA</td>\n",
              "      <td>1993-08-08</td>\n",
              "    </tr>\n",
              "    <tr>\n",
              "      <th>1</th>\n",
              "      <td>2</td>\n",
              "      <td>Italy</td>\n",
              "      <td>ITA</td>\n",
              "      <td>0.0</td>\n",
              "      <td>57</td>\n",
              "      <td>0</td>\n",
              "      <td>0.0</td>\n",
              "      <td>0.0</td>\n",
              "      <td>0.0</td>\n",
              "      <td>0.0</td>\n",
              "      <td>0.0</td>\n",
              "      <td>0.0</td>\n",
              "      <td>0.0</td>\n",
              "      <td>0.0</td>\n",
              "      <td>UEFA</td>\n",
              "      <td>1993-08-08</td>\n",
              "    </tr>\n",
              "    <tr>\n",
              "      <th>2</th>\n",
              "      <td>3</td>\n",
              "      <td>Switzerland</td>\n",
              "      <td>SUI</td>\n",
              "      <td>0.0</td>\n",
              "      <td>50</td>\n",
              "      <td>9</td>\n",
              "      <td>0.0</td>\n",
              "      <td>0.0</td>\n",
              "      <td>0.0</td>\n",
              "      <td>0.0</td>\n",
              "      <td>0.0</td>\n",
              "      <td>0.0</td>\n",
              "      <td>0.0</td>\n",
              "      <td>0.0</td>\n",
              "      <td>UEFA</td>\n",
              "      <td>1993-08-08</td>\n",
              "    </tr>\n",
              "    <tr>\n",
              "      <th>3</th>\n",
              "      <td>4</td>\n",
              "      <td>Sweden</td>\n",
              "      <td>SWE</td>\n",
              "      <td>0.0</td>\n",
              "      <td>55</td>\n",
              "      <td>0</td>\n",
              "      <td>0.0</td>\n",
              "      <td>0.0</td>\n",
              "      <td>0.0</td>\n",
              "      <td>0.0</td>\n",
              "      <td>0.0</td>\n",
              "      <td>0.0</td>\n",
              "      <td>0.0</td>\n",
              "      <td>0.0</td>\n",
              "      <td>UEFA</td>\n",
              "      <td>1993-08-08</td>\n",
              "    </tr>\n",
              "    <tr>\n",
              "      <th>4</th>\n",
              "      <td>5</td>\n",
              "      <td>Argentina</td>\n",
              "      <td>ARG</td>\n",
              "      <td>0.0</td>\n",
              "      <td>51</td>\n",
              "      <td>5</td>\n",
              "      <td>0.0</td>\n",
              "      <td>0.0</td>\n",
              "      <td>0.0</td>\n",
              "      <td>0.0</td>\n",
              "      <td>0.0</td>\n",
              "      <td>0.0</td>\n",
              "      <td>0.0</td>\n",
              "      <td>0.0</td>\n",
              "      <td>CONMEBOL</td>\n",
              "      <td>1993-08-08</td>\n",
              "    </tr>\n",
              "  </tbody>\n",
              "</table>\n",
              "</div>"
            ],
            "text/plain": [
              "   rank country_full  ... confederation   rank_date\n",
              "0     1      Germany  ...          UEFA  1993-08-08\n",
              "1     2        Italy  ...          UEFA  1993-08-08\n",
              "2     3  Switzerland  ...          UEFA  1993-08-08\n",
              "3     4       Sweden  ...          UEFA  1993-08-08\n",
              "4     5    Argentina  ...      CONMEBOL  1993-08-08\n",
              "\n",
              "[5 rows x 16 columns]"
            ]
          },
          "metadata": {
            "tags": []
          },
          "execution_count": 468
        }
      ]
    },
    {
      "cell_type": "code",
      "metadata": {
        "id": "pafL7Li0jyXW",
        "colab_type": "code",
        "colab": {
          "base_uri": "https://localhost:8080/",
          "height": 197
        },
        "outputId": "9e885bcd-3187-41cd-d31d-d55e2b66dfd7"
      },
      "source": [
        "#Loading the results dataset\n",
        "results = pd.read_csv('results.csv')\n",
        "results.head()"
      ],
      "execution_count": 469,
      "outputs": [
        {
          "output_type": "execute_result",
          "data": {
            "text/html": [
              "<div>\n",
              "<style scoped>\n",
              "    .dataframe tbody tr th:only-of-type {\n",
              "        vertical-align: middle;\n",
              "    }\n",
              "\n",
              "    .dataframe tbody tr th {\n",
              "        vertical-align: top;\n",
              "    }\n",
              "\n",
              "    .dataframe thead th {\n",
              "        text-align: right;\n",
              "    }\n",
              "</style>\n",
              "<table border=\"1\" class=\"dataframe\">\n",
              "  <thead>\n",
              "    <tr style=\"text-align: right;\">\n",
              "      <th></th>\n",
              "      <th>date</th>\n",
              "      <th>home_team</th>\n",
              "      <th>away_team</th>\n",
              "      <th>home_score</th>\n",
              "      <th>away_score</th>\n",
              "      <th>tournament</th>\n",
              "      <th>city</th>\n",
              "      <th>country</th>\n",
              "      <th>neutral</th>\n",
              "    </tr>\n",
              "  </thead>\n",
              "  <tbody>\n",
              "    <tr>\n",
              "      <th>0</th>\n",
              "      <td>1872-11-30</td>\n",
              "      <td>Scotland</td>\n",
              "      <td>England</td>\n",
              "      <td>0</td>\n",
              "      <td>0</td>\n",
              "      <td>Friendly</td>\n",
              "      <td>Glasgow</td>\n",
              "      <td>Scotland</td>\n",
              "      <td>False</td>\n",
              "    </tr>\n",
              "    <tr>\n",
              "      <th>1</th>\n",
              "      <td>1873-03-08</td>\n",
              "      <td>England</td>\n",
              "      <td>Scotland</td>\n",
              "      <td>4</td>\n",
              "      <td>2</td>\n",
              "      <td>Friendly</td>\n",
              "      <td>London</td>\n",
              "      <td>England</td>\n",
              "      <td>False</td>\n",
              "    </tr>\n",
              "    <tr>\n",
              "      <th>2</th>\n",
              "      <td>1874-03-07</td>\n",
              "      <td>Scotland</td>\n",
              "      <td>England</td>\n",
              "      <td>2</td>\n",
              "      <td>1</td>\n",
              "      <td>Friendly</td>\n",
              "      <td>Glasgow</td>\n",
              "      <td>Scotland</td>\n",
              "      <td>False</td>\n",
              "    </tr>\n",
              "    <tr>\n",
              "      <th>3</th>\n",
              "      <td>1875-03-06</td>\n",
              "      <td>England</td>\n",
              "      <td>Scotland</td>\n",
              "      <td>2</td>\n",
              "      <td>2</td>\n",
              "      <td>Friendly</td>\n",
              "      <td>London</td>\n",
              "      <td>England</td>\n",
              "      <td>False</td>\n",
              "    </tr>\n",
              "    <tr>\n",
              "      <th>4</th>\n",
              "      <td>1876-03-04</td>\n",
              "      <td>Scotland</td>\n",
              "      <td>England</td>\n",
              "      <td>3</td>\n",
              "      <td>0</td>\n",
              "      <td>Friendly</td>\n",
              "      <td>Glasgow</td>\n",
              "      <td>Scotland</td>\n",
              "      <td>False</td>\n",
              "    </tr>\n",
              "  </tbody>\n",
              "</table>\n",
              "</div>"
            ],
            "text/plain": [
              "         date home_team away_team  ...     city   country neutral\n",
              "0  1872-11-30  Scotland   England  ...  Glasgow  Scotland   False\n",
              "1  1873-03-08   England  Scotland  ...   London   England   False\n",
              "2  1874-03-07  Scotland   England  ...  Glasgow  Scotland   False\n",
              "3  1875-03-06   England  Scotland  ...   London   England   False\n",
              "4  1876-03-04  Scotland   England  ...  Glasgow  Scotland   False\n",
              "\n",
              "[5 rows x 9 columns]"
            ]
          },
          "metadata": {
            "tags": []
          },
          "execution_count": 469
        }
      ]
    },
    {
      "cell_type": "markdown",
      "metadata": {
        "id": "0LM8_98u7At9",
        "colab_type": "text"
      },
      "source": [
        "## 3. Checking the Data"
      ]
    },
    {
      "cell_type": "markdown",
      "metadata": {
        "id": "jsQlyToA7D8Q",
        "colab_type": "text"
      },
      "source": [
        "### a.) Rank dataset"
      ]
    },
    {
      "cell_type": "code",
      "metadata": {
        "id": "s3_EaUt37Ab8",
        "colab_type": "code",
        "colab": {
          "base_uri": "https://localhost:8080/",
          "height": 33
        },
        "outputId": "3b990c83-d56f-4e5a-957f-84b8516b0f5d"
      },
      "source": [
        "# Determining the no. of records in our dataset\n",
        "rank.shape"
      ],
      "execution_count": 470,
      "outputs": [
        {
          "output_type": "execute_result",
          "data": {
            "text/plain": [
              "(57793, 16)"
            ]
          },
          "metadata": {
            "tags": []
          },
          "execution_count": 470
        }
      ]
    },
    {
      "cell_type": "markdown",
      "metadata": {
        "id": "mB1_a6qR7LQm",
        "colab_type": "text"
      },
      "source": [
        "The dataset has 57,793 rows and 16 columns."
      ]
    },
    {
      "cell_type": "code",
      "metadata": {
        "id": "nOhi54J97K_5",
        "colab_type": "code",
        "colab": {
          "base_uri": "https://localhost:8080/",
          "height": 301
        },
        "outputId": "39b61bf5-4e81-48ed-9516-7323754fb649"
      },
      "source": [
        "# Previewing the top of our dataset\n",
        "rank.head()"
      ],
      "execution_count": 471,
      "outputs": [
        {
          "output_type": "execute_result",
          "data": {
            "text/html": [
              "<div>\n",
              "<style scoped>\n",
              "    .dataframe tbody tr th:only-of-type {\n",
              "        vertical-align: middle;\n",
              "    }\n",
              "\n",
              "    .dataframe tbody tr th {\n",
              "        vertical-align: top;\n",
              "    }\n",
              "\n",
              "    .dataframe thead th {\n",
              "        text-align: right;\n",
              "    }\n",
              "</style>\n",
              "<table border=\"1\" class=\"dataframe\">\n",
              "  <thead>\n",
              "    <tr style=\"text-align: right;\">\n",
              "      <th></th>\n",
              "      <th>rank</th>\n",
              "      <th>country_full</th>\n",
              "      <th>country_abrv</th>\n",
              "      <th>total_points</th>\n",
              "      <th>previous_points</th>\n",
              "      <th>rank_change</th>\n",
              "      <th>cur_year_avg</th>\n",
              "      <th>cur_year_avg_weighted</th>\n",
              "      <th>last_year_avg</th>\n",
              "      <th>last_year_avg_weighted</th>\n",
              "      <th>two_year_ago_avg</th>\n",
              "      <th>two_year_ago_weighted</th>\n",
              "      <th>three_year_ago_avg</th>\n",
              "      <th>three_year_ago_weighted</th>\n",
              "      <th>confederation</th>\n",
              "      <th>rank_date</th>\n",
              "    </tr>\n",
              "  </thead>\n",
              "  <tbody>\n",
              "    <tr>\n",
              "      <th>0</th>\n",
              "      <td>1</td>\n",
              "      <td>Germany</td>\n",
              "      <td>GER</td>\n",
              "      <td>0.0</td>\n",
              "      <td>57</td>\n",
              "      <td>0</td>\n",
              "      <td>0.0</td>\n",
              "      <td>0.0</td>\n",
              "      <td>0.0</td>\n",
              "      <td>0.0</td>\n",
              "      <td>0.0</td>\n",
              "      <td>0.0</td>\n",
              "      <td>0.0</td>\n",
              "      <td>0.0</td>\n",
              "      <td>UEFA</td>\n",
              "      <td>1993-08-08</td>\n",
              "    </tr>\n",
              "    <tr>\n",
              "      <th>1</th>\n",
              "      <td>2</td>\n",
              "      <td>Italy</td>\n",
              "      <td>ITA</td>\n",
              "      <td>0.0</td>\n",
              "      <td>57</td>\n",
              "      <td>0</td>\n",
              "      <td>0.0</td>\n",
              "      <td>0.0</td>\n",
              "      <td>0.0</td>\n",
              "      <td>0.0</td>\n",
              "      <td>0.0</td>\n",
              "      <td>0.0</td>\n",
              "      <td>0.0</td>\n",
              "      <td>0.0</td>\n",
              "      <td>UEFA</td>\n",
              "      <td>1993-08-08</td>\n",
              "    </tr>\n",
              "    <tr>\n",
              "      <th>2</th>\n",
              "      <td>3</td>\n",
              "      <td>Switzerland</td>\n",
              "      <td>SUI</td>\n",
              "      <td>0.0</td>\n",
              "      <td>50</td>\n",
              "      <td>9</td>\n",
              "      <td>0.0</td>\n",
              "      <td>0.0</td>\n",
              "      <td>0.0</td>\n",
              "      <td>0.0</td>\n",
              "      <td>0.0</td>\n",
              "      <td>0.0</td>\n",
              "      <td>0.0</td>\n",
              "      <td>0.0</td>\n",
              "      <td>UEFA</td>\n",
              "      <td>1993-08-08</td>\n",
              "    </tr>\n",
              "    <tr>\n",
              "      <th>3</th>\n",
              "      <td>4</td>\n",
              "      <td>Sweden</td>\n",
              "      <td>SWE</td>\n",
              "      <td>0.0</td>\n",
              "      <td>55</td>\n",
              "      <td>0</td>\n",
              "      <td>0.0</td>\n",
              "      <td>0.0</td>\n",
              "      <td>0.0</td>\n",
              "      <td>0.0</td>\n",
              "      <td>0.0</td>\n",
              "      <td>0.0</td>\n",
              "      <td>0.0</td>\n",
              "      <td>0.0</td>\n",
              "      <td>UEFA</td>\n",
              "      <td>1993-08-08</td>\n",
              "    </tr>\n",
              "    <tr>\n",
              "      <th>4</th>\n",
              "      <td>5</td>\n",
              "      <td>Argentina</td>\n",
              "      <td>ARG</td>\n",
              "      <td>0.0</td>\n",
              "      <td>51</td>\n",
              "      <td>5</td>\n",
              "      <td>0.0</td>\n",
              "      <td>0.0</td>\n",
              "      <td>0.0</td>\n",
              "      <td>0.0</td>\n",
              "      <td>0.0</td>\n",
              "      <td>0.0</td>\n",
              "      <td>0.0</td>\n",
              "      <td>0.0</td>\n",
              "      <td>CONMEBOL</td>\n",
              "      <td>1993-08-08</td>\n",
              "    </tr>\n",
              "  </tbody>\n",
              "</table>\n",
              "</div>"
            ],
            "text/plain": [
              "   rank country_full  ... confederation   rank_date\n",
              "0     1      Germany  ...          UEFA  1993-08-08\n",
              "1     2        Italy  ...          UEFA  1993-08-08\n",
              "2     3  Switzerland  ...          UEFA  1993-08-08\n",
              "3     4       Sweden  ...          UEFA  1993-08-08\n",
              "4     5    Argentina  ...      CONMEBOL  1993-08-08\n",
              "\n",
              "[5 rows x 16 columns]"
            ]
          },
          "metadata": {
            "tags": []
          },
          "execution_count": 471
        }
      ]
    },
    {
      "cell_type": "code",
      "metadata": {
        "id": "YaqN6D-U7Se6",
        "colab_type": "code",
        "colab": {
          "base_uri": "https://localhost:8080/",
          "height": 301
        },
        "outputId": "824eace9-4d4f-42ca-d012-c7eaf5fabd30"
      },
      "source": [
        "# Previewing the bottom of our dataset\n",
        "rank.tail()"
      ],
      "execution_count": 472,
      "outputs": [
        {
          "output_type": "execute_result",
          "data": {
            "text/html": [
              "<div>\n",
              "<style scoped>\n",
              "    .dataframe tbody tr th:only-of-type {\n",
              "        vertical-align: middle;\n",
              "    }\n",
              "\n",
              "    .dataframe tbody tr th {\n",
              "        vertical-align: top;\n",
              "    }\n",
              "\n",
              "    .dataframe thead th {\n",
              "        text-align: right;\n",
              "    }\n",
              "</style>\n",
              "<table border=\"1\" class=\"dataframe\">\n",
              "  <thead>\n",
              "    <tr style=\"text-align: right;\">\n",
              "      <th></th>\n",
              "      <th>rank</th>\n",
              "      <th>country_full</th>\n",
              "      <th>country_abrv</th>\n",
              "      <th>total_points</th>\n",
              "      <th>previous_points</th>\n",
              "      <th>rank_change</th>\n",
              "      <th>cur_year_avg</th>\n",
              "      <th>cur_year_avg_weighted</th>\n",
              "      <th>last_year_avg</th>\n",
              "      <th>last_year_avg_weighted</th>\n",
              "      <th>two_year_ago_avg</th>\n",
              "      <th>two_year_ago_weighted</th>\n",
              "      <th>three_year_ago_avg</th>\n",
              "      <th>three_year_ago_weighted</th>\n",
              "      <th>confederation</th>\n",
              "      <th>rank_date</th>\n",
              "    </tr>\n",
              "  </thead>\n",
              "  <tbody>\n",
              "    <tr>\n",
              "      <th>57788</th>\n",
              "      <td>206</td>\n",
              "      <td>Anguilla</td>\n",
              "      <td>AIA</td>\n",
              "      <td>0.0</td>\n",
              "      <td>0</td>\n",
              "      <td>1</td>\n",
              "      <td>0.0</td>\n",
              "      <td>0.0</td>\n",
              "      <td>0.0</td>\n",
              "      <td>0.0</td>\n",
              "      <td>0.0</td>\n",
              "      <td>0.0</td>\n",
              "      <td>0.0</td>\n",
              "      <td>0.0</td>\n",
              "      <td>CONCACAF</td>\n",
              "      <td>2018-06-07</td>\n",
              "    </tr>\n",
              "    <tr>\n",
              "      <th>57789</th>\n",
              "      <td>206</td>\n",
              "      <td>Bahamas</td>\n",
              "      <td>BAH</td>\n",
              "      <td>0.0</td>\n",
              "      <td>0</td>\n",
              "      <td>1</td>\n",
              "      <td>0.0</td>\n",
              "      <td>0.0</td>\n",
              "      <td>0.0</td>\n",
              "      <td>0.0</td>\n",
              "      <td>0.0</td>\n",
              "      <td>0.0</td>\n",
              "      <td>0.0</td>\n",
              "      <td>0.0</td>\n",
              "      <td>CONCACAF</td>\n",
              "      <td>2018-06-07</td>\n",
              "    </tr>\n",
              "    <tr>\n",
              "      <th>57790</th>\n",
              "      <td>206</td>\n",
              "      <td>Eritrea</td>\n",
              "      <td>ERI</td>\n",
              "      <td>0.0</td>\n",
              "      <td>0</td>\n",
              "      <td>1</td>\n",
              "      <td>0.0</td>\n",
              "      <td>0.0</td>\n",
              "      <td>0.0</td>\n",
              "      <td>0.0</td>\n",
              "      <td>0.0</td>\n",
              "      <td>0.0</td>\n",
              "      <td>0.0</td>\n",
              "      <td>0.0</td>\n",
              "      <td>CAF</td>\n",
              "      <td>2018-06-07</td>\n",
              "    </tr>\n",
              "    <tr>\n",
              "      <th>57791</th>\n",
              "      <td>206</td>\n",
              "      <td>Somalia</td>\n",
              "      <td>SOM</td>\n",
              "      <td>0.0</td>\n",
              "      <td>0</td>\n",
              "      <td>1</td>\n",
              "      <td>0.0</td>\n",
              "      <td>0.0</td>\n",
              "      <td>0.0</td>\n",
              "      <td>0.0</td>\n",
              "      <td>0.0</td>\n",
              "      <td>0.0</td>\n",
              "      <td>0.0</td>\n",
              "      <td>0.0</td>\n",
              "      <td>CAF</td>\n",
              "      <td>2018-06-07</td>\n",
              "    </tr>\n",
              "    <tr>\n",
              "      <th>57792</th>\n",
              "      <td>206</td>\n",
              "      <td>Tonga</td>\n",
              "      <td>TGA</td>\n",
              "      <td>0.0</td>\n",
              "      <td>0</td>\n",
              "      <td>1</td>\n",
              "      <td>0.0</td>\n",
              "      <td>0.0</td>\n",
              "      <td>0.0</td>\n",
              "      <td>0.0</td>\n",
              "      <td>0.0</td>\n",
              "      <td>0.0</td>\n",
              "      <td>0.0</td>\n",
              "      <td>0.0</td>\n",
              "      <td>OFC</td>\n",
              "      <td>2018-06-07</td>\n",
              "    </tr>\n",
              "  </tbody>\n",
              "</table>\n",
              "</div>"
            ],
            "text/plain": [
              "       rank country_full  ... confederation   rank_date\n",
              "57788   206     Anguilla  ...      CONCACAF  2018-06-07\n",
              "57789   206      Bahamas  ...      CONCACAF  2018-06-07\n",
              "57790   206      Eritrea  ...           CAF  2018-06-07\n",
              "57791   206      Somalia  ...           CAF  2018-06-07\n",
              "57792   206        Tonga  ...           OFC  2018-06-07\n",
              "\n",
              "[5 rows x 16 columns]"
            ]
          },
          "metadata": {
            "tags": []
          },
          "execution_count": 472
        }
      ]
    },
    {
      "cell_type": "code",
      "metadata": {
        "id": "GoeQMaif7V4e",
        "colab_type": "code",
        "colab": {
          "base_uri": "https://localhost:8080/",
          "height": 300
        },
        "outputId": "b15117c2-4181-408c-9b97-43b64024a574"
      },
      "source": [
        "#Checking for unique values in our dataset\n",
        "rank.nunique()"
      ],
      "execution_count": 473,
      "outputs": [
        {
          "output_type": "execute_result",
          "data": {
            "text/plain": [
              "rank                         209\n",
              "country_full                 216\n",
              "country_abrv                 216\n",
              "total_points               11114\n",
              "previous_points             1557\n",
              "rank_change                  121\n",
              "cur_year_avg                7419\n",
              "cur_year_avg_weighted       7419\n",
              "last_year_avg               7473\n",
              "last_year_avg_weighted      7001\n",
              "two_year_ago_avg            7575\n",
              "two_year_ago_weighted       6513\n",
              "three_year_ago_avg          7628\n",
              "three_year_ago_weighted     5849\n",
              "confederation                  6\n",
              "rank_date                    286\n",
              "dtype: int64"
            ]
          },
          "metadata": {
            "tags": []
          },
          "execution_count": 473
        }
      ]
    },
    {
      "cell_type": "code",
      "metadata": {
        "id": "XRdORS8v7Y99",
        "colab_type": "code",
        "colab": {
          "base_uri": "https://localhost:8080/",
          "height": 300
        },
        "outputId": "e4f44216-746d-4d2e-f1e4-b4f42c664c4a"
      },
      "source": [
        "#Checking for null values in our dataset\n",
        "rank.isnull().sum()"
      ],
      "execution_count": 474,
      "outputs": [
        {
          "output_type": "execute_result",
          "data": {
            "text/plain": [
              "rank                       0\n",
              "country_full               0\n",
              "country_abrv               0\n",
              "total_points               0\n",
              "previous_points            0\n",
              "rank_change                0\n",
              "cur_year_avg               0\n",
              "cur_year_avg_weighted      0\n",
              "last_year_avg              0\n",
              "last_year_avg_weighted     0\n",
              "two_year_ago_avg           0\n",
              "two_year_ago_weighted      0\n",
              "three_year_ago_avg         0\n",
              "three_year_ago_weighted    0\n",
              "confederation              0\n",
              "rank_date                  0\n",
              "dtype: int64"
            ]
          },
          "metadata": {
            "tags": []
          },
          "execution_count": 474
        }
      ]
    },
    {
      "cell_type": "markdown",
      "metadata": {
        "id": "kXvIv8ar7bsV",
        "colab_type": "text"
      },
      "source": [
        "The dataset has no null values."
      ]
    },
    {
      "cell_type": "code",
      "metadata": {
        "id": "7kDgCoNW7hKp",
        "colab_type": "code",
        "colab": {
          "base_uri": "https://localhost:8080/",
          "height": 33
        },
        "outputId": "b1f788de-f101-4bb2-ca17-a66838a27300"
      },
      "source": [
        "#Checking for duplicated rows\n",
        "rank.duplicated().any()"
      ],
      "execution_count": 475,
      "outputs": [
        {
          "output_type": "execute_result",
          "data": {
            "text/plain": [
              "True"
            ]
          },
          "metadata": {
            "tags": []
          },
          "execution_count": 475
        }
      ]
    },
    {
      "cell_type": "markdown",
      "metadata": {
        "id": "mL1tLyO-7m2F",
        "colab_type": "text"
      },
      "source": [
        "The dataset has duplicated rows."
      ]
    },
    {
      "cell_type": "code",
      "metadata": {
        "id": "BaSYLn3u7mGy",
        "colab_type": "code",
        "colab": {
          "base_uri": "https://localhost:8080/",
          "height": 300
        },
        "outputId": "67df396d-d4e2-483c-d871-367e54a25e09"
      },
      "source": [
        "# Checking whether each column has an appropriate datatype\n",
        "rank.dtypes"
      ],
      "execution_count": 476,
      "outputs": [
        {
          "output_type": "execute_result",
          "data": {
            "text/plain": [
              "rank                         int64\n",
              "country_full                object\n",
              "country_abrv                object\n",
              "total_points               float64\n",
              "previous_points              int64\n",
              "rank_change                  int64\n",
              "cur_year_avg               float64\n",
              "cur_year_avg_weighted      float64\n",
              "last_year_avg              float64\n",
              "last_year_avg_weighted     float64\n",
              "two_year_ago_avg           float64\n",
              "two_year_ago_weighted      float64\n",
              "three_year_ago_avg         float64\n",
              "three_year_ago_weighted    float64\n",
              "confederation               object\n",
              "rank_date                   object\n",
              "dtype: object"
            ]
          },
          "metadata": {
            "tags": []
          },
          "execution_count": 476
        }
      ]
    },
    {
      "cell_type": "markdown",
      "metadata": {
        "id": "IJ8acPkB7xPq",
        "colab_type": "text"
      },
      "source": [
        "### b.) Results dataset"
      ]
    },
    {
      "cell_type": "code",
      "metadata": {
        "id": "hMSoOB9j71r7",
        "colab_type": "code",
        "colab": {
          "base_uri": "https://localhost:8080/",
          "height": 33
        },
        "outputId": "4aee176e-d8ee-499a-a5bc-00724234e115"
      },
      "source": [
        "# Determining the no. of records in our dataset\n",
        "results.shape"
      ],
      "execution_count": 477,
      "outputs": [
        {
          "output_type": "execute_result",
          "data": {
            "text/plain": [
              "(40839, 9)"
            ]
          },
          "metadata": {
            "tags": []
          },
          "execution_count": 477
        }
      ]
    },
    {
      "cell_type": "markdown",
      "metadata": {
        "id": "caRSsLMh77uj",
        "colab_type": "text"
      },
      "source": [
        "The dataset has 40,839 rows and 9 columns."
      ]
    },
    {
      "cell_type": "code",
      "metadata": {
        "id": "pXktaXN48AAE",
        "colab_type": "code",
        "colab": {
          "base_uri": "https://localhost:8080/",
          "height": 197
        },
        "outputId": "f084e747-6ea7-4518-c46b-9072d41e560b"
      },
      "source": [
        "# Previewing the top of our dataset\n",
        "results.head()"
      ],
      "execution_count": 478,
      "outputs": [
        {
          "output_type": "execute_result",
          "data": {
            "text/html": [
              "<div>\n",
              "<style scoped>\n",
              "    .dataframe tbody tr th:only-of-type {\n",
              "        vertical-align: middle;\n",
              "    }\n",
              "\n",
              "    .dataframe tbody tr th {\n",
              "        vertical-align: top;\n",
              "    }\n",
              "\n",
              "    .dataframe thead th {\n",
              "        text-align: right;\n",
              "    }\n",
              "</style>\n",
              "<table border=\"1\" class=\"dataframe\">\n",
              "  <thead>\n",
              "    <tr style=\"text-align: right;\">\n",
              "      <th></th>\n",
              "      <th>date</th>\n",
              "      <th>home_team</th>\n",
              "      <th>away_team</th>\n",
              "      <th>home_score</th>\n",
              "      <th>away_score</th>\n",
              "      <th>tournament</th>\n",
              "      <th>city</th>\n",
              "      <th>country</th>\n",
              "      <th>neutral</th>\n",
              "    </tr>\n",
              "  </thead>\n",
              "  <tbody>\n",
              "    <tr>\n",
              "      <th>0</th>\n",
              "      <td>1872-11-30</td>\n",
              "      <td>Scotland</td>\n",
              "      <td>England</td>\n",
              "      <td>0</td>\n",
              "      <td>0</td>\n",
              "      <td>Friendly</td>\n",
              "      <td>Glasgow</td>\n",
              "      <td>Scotland</td>\n",
              "      <td>False</td>\n",
              "    </tr>\n",
              "    <tr>\n",
              "      <th>1</th>\n",
              "      <td>1873-03-08</td>\n",
              "      <td>England</td>\n",
              "      <td>Scotland</td>\n",
              "      <td>4</td>\n",
              "      <td>2</td>\n",
              "      <td>Friendly</td>\n",
              "      <td>London</td>\n",
              "      <td>England</td>\n",
              "      <td>False</td>\n",
              "    </tr>\n",
              "    <tr>\n",
              "      <th>2</th>\n",
              "      <td>1874-03-07</td>\n",
              "      <td>Scotland</td>\n",
              "      <td>England</td>\n",
              "      <td>2</td>\n",
              "      <td>1</td>\n",
              "      <td>Friendly</td>\n",
              "      <td>Glasgow</td>\n",
              "      <td>Scotland</td>\n",
              "      <td>False</td>\n",
              "    </tr>\n",
              "    <tr>\n",
              "      <th>3</th>\n",
              "      <td>1875-03-06</td>\n",
              "      <td>England</td>\n",
              "      <td>Scotland</td>\n",
              "      <td>2</td>\n",
              "      <td>2</td>\n",
              "      <td>Friendly</td>\n",
              "      <td>London</td>\n",
              "      <td>England</td>\n",
              "      <td>False</td>\n",
              "    </tr>\n",
              "    <tr>\n",
              "      <th>4</th>\n",
              "      <td>1876-03-04</td>\n",
              "      <td>Scotland</td>\n",
              "      <td>England</td>\n",
              "      <td>3</td>\n",
              "      <td>0</td>\n",
              "      <td>Friendly</td>\n",
              "      <td>Glasgow</td>\n",
              "      <td>Scotland</td>\n",
              "      <td>False</td>\n",
              "    </tr>\n",
              "  </tbody>\n",
              "</table>\n",
              "</div>"
            ],
            "text/plain": [
              "         date home_team away_team  ...     city   country neutral\n",
              "0  1872-11-30  Scotland   England  ...  Glasgow  Scotland   False\n",
              "1  1873-03-08   England  Scotland  ...   London   England   False\n",
              "2  1874-03-07  Scotland   England  ...  Glasgow  Scotland   False\n",
              "3  1875-03-06   England  Scotland  ...   London   England   False\n",
              "4  1876-03-04  Scotland   England  ...  Glasgow  Scotland   False\n",
              "\n",
              "[5 rows x 9 columns]"
            ]
          },
          "metadata": {
            "tags": []
          },
          "execution_count": 478
        }
      ]
    },
    {
      "cell_type": "code",
      "metadata": {
        "id": "IjTEiWzk8Dfv",
        "colab_type": "code",
        "colab": {
          "base_uri": "https://localhost:8080/",
          "height": 197
        },
        "outputId": "180e7f8a-a885-4bf3-a536-1f4a65ce15bf"
      },
      "source": [
        "# Previewing the bottom of our dataset\n",
        "results.tail()"
      ],
      "execution_count": 479,
      "outputs": [
        {
          "output_type": "execute_result",
          "data": {
            "text/html": [
              "<div>\n",
              "<style scoped>\n",
              "    .dataframe tbody tr th:only-of-type {\n",
              "        vertical-align: middle;\n",
              "    }\n",
              "\n",
              "    .dataframe tbody tr th {\n",
              "        vertical-align: top;\n",
              "    }\n",
              "\n",
              "    .dataframe thead th {\n",
              "        text-align: right;\n",
              "    }\n",
              "</style>\n",
              "<table border=\"1\" class=\"dataframe\">\n",
              "  <thead>\n",
              "    <tr style=\"text-align: right;\">\n",
              "      <th></th>\n",
              "      <th>date</th>\n",
              "      <th>home_team</th>\n",
              "      <th>away_team</th>\n",
              "      <th>home_score</th>\n",
              "      <th>away_score</th>\n",
              "      <th>tournament</th>\n",
              "      <th>city</th>\n",
              "      <th>country</th>\n",
              "      <th>neutral</th>\n",
              "    </tr>\n",
              "  </thead>\n",
              "  <tbody>\n",
              "    <tr>\n",
              "      <th>40834</th>\n",
              "      <td>2019-07-18</td>\n",
              "      <td>American Samoa</td>\n",
              "      <td>Tahiti</td>\n",
              "      <td>8</td>\n",
              "      <td>1</td>\n",
              "      <td>Pacific Games</td>\n",
              "      <td>Apia</td>\n",
              "      <td>Samoa</td>\n",
              "      <td>True</td>\n",
              "    </tr>\n",
              "    <tr>\n",
              "      <th>40835</th>\n",
              "      <td>2019-07-18</td>\n",
              "      <td>Fiji</td>\n",
              "      <td>Solomon Islands</td>\n",
              "      <td>4</td>\n",
              "      <td>4</td>\n",
              "      <td>Pacific Games</td>\n",
              "      <td>Apia</td>\n",
              "      <td>Samoa</td>\n",
              "      <td>True</td>\n",
              "    </tr>\n",
              "    <tr>\n",
              "      <th>40836</th>\n",
              "      <td>2019-07-19</td>\n",
              "      <td>Senegal</td>\n",
              "      <td>Algeria</td>\n",
              "      <td>0</td>\n",
              "      <td>1</td>\n",
              "      <td>African Cup of Nations</td>\n",
              "      <td>Cairo</td>\n",
              "      <td>Egypt</td>\n",
              "      <td>True</td>\n",
              "    </tr>\n",
              "    <tr>\n",
              "      <th>40837</th>\n",
              "      <td>2019-07-19</td>\n",
              "      <td>Tajikistan</td>\n",
              "      <td>North Korea</td>\n",
              "      <td>0</td>\n",
              "      <td>1</td>\n",
              "      <td>Intercontinental Cup</td>\n",
              "      <td>Ahmedabad</td>\n",
              "      <td>India</td>\n",
              "      <td>True</td>\n",
              "    </tr>\n",
              "    <tr>\n",
              "      <th>40838</th>\n",
              "      <td>2019-07-20</td>\n",
              "      <td>Papua New Guinea</td>\n",
              "      <td>Fiji</td>\n",
              "      <td>1</td>\n",
              "      <td>1</td>\n",
              "      <td>Pacific Games</td>\n",
              "      <td>Apia</td>\n",
              "      <td>Samoa</td>\n",
              "      <td>True</td>\n",
              "    </tr>\n",
              "  </tbody>\n",
              "</table>\n",
              "</div>"
            ],
            "text/plain": [
              "             date         home_team  ... country  neutral\n",
              "40834  2019-07-18    American Samoa  ...   Samoa     True\n",
              "40835  2019-07-18              Fiji  ...   Samoa     True\n",
              "40836  2019-07-19           Senegal  ...   Egypt     True\n",
              "40837  2019-07-19        Tajikistan  ...   India     True\n",
              "40838  2019-07-20  Papua New Guinea  ...   Samoa     True\n",
              "\n",
              "[5 rows x 9 columns]"
            ]
          },
          "metadata": {
            "tags": []
          },
          "execution_count": 479
        }
      ]
    },
    {
      "cell_type": "code",
      "metadata": {
        "id": "bDldSGyT8ISN",
        "colab_type": "code",
        "colab": {
          "base_uri": "https://localhost:8080/",
          "height": 183
        },
        "outputId": "25506d8e-4978-4f12-97ec-e87cd39cbaad"
      },
      "source": [
        "#Checking for unique values in our dataset\n",
        "results.nunique()"
      ],
      "execution_count": 480,
      "outputs": [
        {
          "output_type": "execute_result",
          "data": {
            "text/plain": [
              "date          15115\n",
              "home_team       309\n",
              "away_team       306\n",
              "home_score       26\n",
              "away_score       22\n",
              "tournament      109\n",
              "city           1960\n",
              "country         266\n",
              "neutral           2\n",
              "dtype: int64"
            ]
          },
          "metadata": {
            "tags": []
          },
          "execution_count": 480
        }
      ]
    },
    {
      "cell_type": "code",
      "metadata": {
        "id": "7Mb2N6_k8Lbz",
        "colab_type": "code",
        "colab": {
          "base_uri": "https://localhost:8080/",
          "height": 183
        },
        "outputId": "a7062b27-54d9-48e6-bbff-829ec327fd6f"
      },
      "source": [
        "#Checking for null values in our dataset\n",
        "results.isnull().sum()"
      ],
      "execution_count": 481,
      "outputs": [
        {
          "output_type": "execute_result",
          "data": {
            "text/plain": [
              "date          0\n",
              "home_team     0\n",
              "away_team     0\n",
              "home_score    0\n",
              "away_score    0\n",
              "tournament    0\n",
              "city          0\n",
              "country       0\n",
              "neutral       0\n",
              "dtype: int64"
            ]
          },
          "metadata": {
            "tags": []
          },
          "execution_count": 481
        }
      ]
    },
    {
      "cell_type": "markdown",
      "metadata": {
        "id": "VMVImPYi8Noy",
        "colab_type": "text"
      },
      "source": [
        "The dataset has no null values."
      ]
    },
    {
      "cell_type": "code",
      "metadata": {
        "id": "erU-Bo118Ovu",
        "colab_type": "code",
        "colab": {
          "base_uri": "https://localhost:8080/",
          "height": 33
        },
        "outputId": "a27cc9c4-6a57-400c-dd2a-ef5d94289ef4"
      },
      "source": [
        "#Checking for duplicated rows\n",
        "results.duplicated().any()"
      ],
      "execution_count": 482,
      "outputs": [
        {
          "output_type": "execute_result",
          "data": {
            "text/plain": [
              "False"
            ]
          },
          "metadata": {
            "tags": []
          },
          "execution_count": 482
        }
      ]
    },
    {
      "cell_type": "markdown",
      "metadata": {
        "id": "xI22VAHU8TJX",
        "colab_type": "text"
      },
      "source": [
        "The dataset has no duplicated rows."
      ]
    },
    {
      "cell_type": "code",
      "metadata": {
        "id": "aiqojOUu8YPS",
        "colab_type": "code",
        "colab": {
          "base_uri": "https://localhost:8080/",
          "height": 183
        },
        "outputId": "18268ab2-752d-48a4-e79f-ce4cf2f1ccc9"
      },
      "source": [
        "# Checking whether each column has an appropriate datatype\n",
        "results.dtypes"
      ],
      "execution_count": 483,
      "outputs": [
        {
          "output_type": "execute_result",
          "data": {
            "text/plain": [
              "date          object\n",
              "home_team     object\n",
              "away_team     object\n",
              "home_score     int64\n",
              "away_score     int64\n",
              "tournament    object\n",
              "city          object\n",
              "country       object\n",
              "neutral         bool\n",
              "dtype: object"
            ]
          },
          "metadata": {
            "tags": []
          },
          "execution_count": 483
        }
      ]
    },
    {
      "cell_type": "markdown",
      "metadata": {
        "id": "Z8Q4c1hv8lQi",
        "colab_type": "text"
      },
      "source": [
        "## 4. External Data Source Validation"
      ]
    },
    {
      "cell_type": "markdown",
      "metadata": {
        "id": "zPZl0us6ldUY",
        "colab_type": "text"
      },
      "source": [
        "According to the wikipedia world fifa ranking and the fifa.com website, the data is indeed correct and follows the ranking procedure in fifa.\n",
        "The teams and games played are also accurrate."
      ]
    },
    {
      "cell_type": "markdown",
      "metadata": {
        "id": "wqLTufpU8qRB",
        "colab_type": "text"
      },
      "source": [
        "## 5. Tidying the Dataset"
      ]
    },
    {
      "cell_type": "markdown",
      "metadata": {
        "id": "DauP-YJj8uGj",
        "colab_type": "text"
      },
      "source": [
        "### a.) Rank dataset"
      ]
    },
    {
      "cell_type": "code",
      "metadata": {
        "id": "SqIiNIdk80SD",
        "colab_type": "code",
        "colab": {
          "base_uri": "https://localhost:8080/",
          "height": 33
        },
        "outputId": "a22e2fb2-2746-4bd2-ce78-65d5c9685bb6"
      },
      "source": [
        "#Dropping duplicated rows\n",
        "rank = rank.drop_duplicates()\n",
        "rank.duplicated().any()"
      ],
      "execution_count": 484,
      "outputs": [
        {
          "output_type": "execute_result",
          "data": {
            "text/plain": [
              "False"
            ]
          },
          "metadata": {
            "tags": []
          },
          "execution_count": 484
        }
      ]
    },
    {
      "cell_type": "code",
      "metadata": {
        "id": "9VKHd2dz82wd",
        "colab_type": "code",
        "colab": {
          "base_uri": "https://localhost:8080/",
          "height": 33
        },
        "outputId": "26507932-db84-4429-ed78-1d43de9599e5"
      },
      "source": [
        "#Checking the shape after dropping duplicates\n",
        "rank.shape"
      ],
      "execution_count": 485,
      "outputs": [
        {
          "output_type": "execute_result",
          "data": {
            "text/plain": [
              "(57756, 16)"
            ]
          },
          "metadata": {
            "tags": []
          },
          "execution_count": 485
        }
      ]
    },
    {
      "cell_type": "markdown",
      "metadata": {
        "id": "RkjuuSU986cb",
        "colab_type": "text"
      },
      "source": [
        "After removing duplicated rows, the dataset has 57,756 rows and 16 columns."
      ]
    },
    {
      "cell_type": "code",
      "metadata": {
        "id": "Jt2x7YgDDHcM",
        "colab_type": "code",
        "colab": {
          "base_uri": "https://localhost:8080/",
          "height": 301
        },
        "outputId": "31016fd4-6837-4b45-b8a1-64f88085d56c"
      },
      "source": [
        "rank.head()"
      ],
      "execution_count": 486,
      "outputs": [
        {
          "output_type": "execute_result",
          "data": {
            "text/html": [
              "<div>\n",
              "<style scoped>\n",
              "    .dataframe tbody tr th:only-of-type {\n",
              "        vertical-align: middle;\n",
              "    }\n",
              "\n",
              "    .dataframe tbody tr th {\n",
              "        vertical-align: top;\n",
              "    }\n",
              "\n",
              "    .dataframe thead th {\n",
              "        text-align: right;\n",
              "    }\n",
              "</style>\n",
              "<table border=\"1\" class=\"dataframe\">\n",
              "  <thead>\n",
              "    <tr style=\"text-align: right;\">\n",
              "      <th></th>\n",
              "      <th>rank</th>\n",
              "      <th>country_full</th>\n",
              "      <th>country_abrv</th>\n",
              "      <th>total_points</th>\n",
              "      <th>previous_points</th>\n",
              "      <th>rank_change</th>\n",
              "      <th>cur_year_avg</th>\n",
              "      <th>cur_year_avg_weighted</th>\n",
              "      <th>last_year_avg</th>\n",
              "      <th>last_year_avg_weighted</th>\n",
              "      <th>two_year_ago_avg</th>\n",
              "      <th>two_year_ago_weighted</th>\n",
              "      <th>three_year_ago_avg</th>\n",
              "      <th>three_year_ago_weighted</th>\n",
              "      <th>confederation</th>\n",
              "      <th>rank_date</th>\n",
              "    </tr>\n",
              "  </thead>\n",
              "  <tbody>\n",
              "    <tr>\n",
              "      <th>0</th>\n",
              "      <td>1</td>\n",
              "      <td>Germany</td>\n",
              "      <td>GER</td>\n",
              "      <td>0.0</td>\n",
              "      <td>57</td>\n",
              "      <td>0</td>\n",
              "      <td>0.0</td>\n",
              "      <td>0.0</td>\n",
              "      <td>0.0</td>\n",
              "      <td>0.0</td>\n",
              "      <td>0.0</td>\n",
              "      <td>0.0</td>\n",
              "      <td>0.0</td>\n",
              "      <td>0.0</td>\n",
              "      <td>UEFA</td>\n",
              "      <td>1993-08-08</td>\n",
              "    </tr>\n",
              "    <tr>\n",
              "      <th>1</th>\n",
              "      <td>2</td>\n",
              "      <td>Italy</td>\n",
              "      <td>ITA</td>\n",
              "      <td>0.0</td>\n",
              "      <td>57</td>\n",
              "      <td>0</td>\n",
              "      <td>0.0</td>\n",
              "      <td>0.0</td>\n",
              "      <td>0.0</td>\n",
              "      <td>0.0</td>\n",
              "      <td>0.0</td>\n",
              "      <td>0.0</td>\n",
              "      <td>0.0</td>\n",
              "      <td>0.0</td>\n",
              "      <td>UEFA</td>\n",
              "      <td>1993-08-08</td>\n",
              "    </tr>\n",
              "    <tr>\n",
              "      <th>2</th>\n",
              "      <td>3</td>\n",
              "      <td>Switzerland</td>\n",
              "      <td>SUI</td>\n",
              "      <td>0.0</td>\n",
              "      <td>50</td>\n",
              "      <td>9</td>\n",
              "      <td>0.0</td>\n",
              "      <td>0.0</td>\n",
              "      <td>0.0</td>\n",
              "      <td>0.0</td>\n",
              "      <td>0.0</td>\n",
              "      <td>0.0</td>\n",
              "      <td>0.0</td>\n",
              "      <td>0.0</td>\n",
              "      <td>UEFA</td>\n",
              "      <td>1993-08-08</td>\n",
              "    </tr>\n",
              "    <tr>\n",
              "      <th>3</th>\n",
              "      <td>4</td>\n",
              "      <td>Sweden</td>\n",
              "      <td>SWE</td>\n",
              "      <td>0.0</td>\n",
              "      <td>55</td>\n",
              "      <td>0</td>\n",
              "      <td>0.0</td>\n",
              "      <td>0.0</td>\n",
              "      <td>0.0</td>\n",
              "      <td>0.0</td>\n",
              "      <td>0.0</td>\n",
              "      <td>0.0</td>\n",
              "      <td>0.0</td>\n",
              "      <td>0.0</td>\n",
              "      <td>UEFA</td>\n",
              "      <td>1993-08-08</td>\n",
              "    </tr>\n",
              "    <tr>\n",
              "      <th>4</th>\n",
              "      <td>5</td>\n",
              "      <td>Argentina</td>\n",
              "      <td>ARG</td>\n",
              "      <td>0.0</td>\n",
              "      <td>51</td>\n",
              "      <td>5</td>\n",
              "      <td>0.0</td>\n",
              "      <td>0.0</td>\n",
              "      <td>0.0</td>\n",
              "      <td>0.0</td>\n",
              "      <td>0.0</td>\n",
              "      <td>0.0</td>\n",
              "      <td>0.0</td>\n",
              "      <td>0.0</td>\n",
              "      <td>CONMEBOL</td>\n",
              "      <td>1993-08-08</td>\n",
              "    </tr>\n",
              "  </tbody>\n",
              "</table>\n",
              "</div>"
            ],
            "text/plain": [
              "   rank country_full  ... confederation   rank_date\n",
              "0     1      Germany  ...          UEFA  1993-08-08\n",
              "1     2        Italy  ...          UEFA  1993-08-08\n",
              "2     3  Switzerland  ...          UEFA  1993-08-08\n",
              "3     4       Sweden  ...          UEFA  1993-08-08\n",
              "4     5    Argentina  ...      CONMEBOL  1993-08-08\n",
              "\n",
              "[5 rows x 16 columns]"
            ]
          },
          "metadata": {
            "tags": []
          },
          "execution_count": 486
        }
      ]
    },
    {
      "cell_type": "code",
      "metadata": {
        "id": "sQA8o2ZXXXLX",
        "colab_type": "code",
        "colab": {
          "base_uri": "https://localhost:8080/",
          "height": 197
        },
        "outputId": "e033bb40-a9d3-41c2-fd9e-838e48acb25b"
      },
      "source": [
        "##Dropping the columns that are not required\n",
        "rank.drop(['country_abrv',\t'total_points',\t'previous_points',\t'rank_change',\t'cur_year_avg',\t'cur_year_avg_weighted',\t'last_year_avg',\t'last_year_avg_weighted',\t'two_year_ago_avg',\t'two_year_ago_weighted',\t'three_year_ago_avg',\t'three_year_ago_weighted',\t'confederation'], axis = 1, inplace = True)\n",
        "rank.head()"
      ],
      "execution_count": 487,
      "outputs": [
        {
          "output_type": "execute_result",
          "data": {
            "text/html": [
              "<div>\n",
              "<style scoped>\n",
              "    .dataframe tbody tr th:only-of-type {\n",
              "        vertical-align: middle;\n",
              "    }\n",
              "\n",
              "    .dataframe tbody tr th {\n",
              "        vertical-align: top;\n",
              "    }\n",
              "\n",
              "    .dataframe thead th {\n",
              "        text-align: right;\n",
              "    }\n",
              "</style>\n",
              "<table border=\"1\" class=\"dataframe\">\n",
              "  <thead>\n",
              "    <tr style=\"text-align: right;\">\n",
              "      <th></th>\n",
              "      <th>rank</th>\n",
              "      <th>country_full</th>\n",
              "      <th>rank_date</th>\n",
              "    </tr>\n",
              "  </thead>\n",
              "  <tbody>\n",
              "    <tr>\n",
              "      <th>0</th>\n",
              "      <td>1</td>\n",
              "      <td>Germany</td>\n",
              "      <td>1993-08-08</td>\n",
              "    </tr>\n",
              "    <tr>\n",
              "      <th>1</th>\n",
              "      <td>2</td>\n",
              "      <td>Italy</td>\n",
              "      <td>1993-08-08</td>\n",
              "    </tr>\n",
              "    <tr>\n",
              "      <th>2</th>\n",
              "      <td>3</td>\n",
              "      <td>Switzerland</td>\n",
              "      <td>1993-08-08</td>\n",
              "    </tr>\n",
              "    <tr>\n",
              "      <th>3</th>\n",
              "      <td>4</td>\n",
              "      <td>Sweden</td>\n",
              "      <td>1993-08-08</td>\n",
              "    </tr>\n",
              "    <tr>\n",
              "      <th>4</th>\n",
              "      <td>5</td>\n",
              "      <td>Argentina</td>\n",
              "      <td>1993-08-08</td>\n",
              "    </tr>\n",
              "  </tbody>\n",
              "</table>\n",
              "</div>"
            ],
            "text/plain": [
              "   rank country_full   rank_date\n",
              "0     1      Germany  1993-08-08\n",
              "1     2        Italy  1993-08-08\n",
              "2     3  Switzerland  1993-08-08\n",
              "3     4       Sweden  1993-08-08\n",
              "4     5    Argentina  1993-08-08"
            ]
          },
          "metadata": {
            "tags": []
          },
          "execution_count": 487
        }
      ]
    },
    {
      "cell_type": "markdown",
      "metadata": {
        "id": "cji03EGhC6b3",
        "colab_type": "text"
      },
      "source": [
        "### b.) Results dataset"
      ]
    },
    {
      "cell_type": "code",
      "metadata": {
        "id": "SIlWr_6U9VcD",
        "colab_type": "code",
        "colab": {
          "base_uri": "https://localhost:8080/",
          "height": 33
        },
        "outputId": "15a93b0a-2292-40eb-e6d9-b55df9f0305e"
      },
      "source": [
        "#Selecting matches that only happened after the ranking system began i.e. in 1993-08-08\n",
        "results1 = results[(results['date'] >= '1993-08-08')]\n",
        "results1.shape"
      ],
      "execution_count": 488,
      "outputs": [
        {
          "output_type": "execute_result",
          "data": {
            "text/plain": [
              "(22924, 9)"
            ]
          },
          "metadata": {
            "tags": []
          },
          "execution_count": 488
        }
      ]
    },
    {
      "cell_type": "code",
      "metadata": {
        "id": "dXcQpterJqYE",
        "colab_type": "code",
        "colab": {
          "base_uri": "https://localhost:8080/",
          "height": 197
        },
        "outputId": "242f16ef-ed30-4382-d22e-1ac624f27315"
      },
      "source": [
        "#Selecting matches that were only played at a neutral venue\n",
        "results2 = results1[(results1['neutral'] == True)]\n",
        "results2.head()"
      ],
      "execution_count": 489,
      "outputs": [
        {
          "output_type": "execute_result",
          "data": {
            "text/html": [
              "<div>\n",
              "<style scoped>\n",
              "    .dataframe tbody tr th:only-of-type {\n",
              "        vertical-align: middle;\n",
              "    }\n",
              "\n",
              "    .dataframe tbody tr th {\n",
              "        vertical-align: top;\n",
              "    }\n",
              "\n",
              "    .dataframe thead th {\n",
              "        text-align: right;\n",
              "    }\n",
              "</style>\n",
              "<table border=\"1\" class=\"dataframe\">\n",
              "  <thead>\n",
              "    <tr style=\"text-align: right;\">\n",
              "      <th></th>\n",
              "      <th>date</th>\n",
              "      <th>home_team</th>\n",
              "      <th>away_team</th>\n",
              "      <th>home_score</th>\n",
              "      <th>away_score</th>\n",
              "      <th>tournament</th>\n",
              "      <th>city</th>\n",
              "      <th>country</th>\n",
              "      <th>neutral</th>\n",
              "    </tr>\n",
              "  </thead>\n",
              "  <tbody>\n",
              "    <tr>\n",
              "      <th>17972</th>\n",
              "      <td>1993-09-22</td>\n",
              "      <td>Mexico</td>\n",
              "      <td>Cameroon</td>\n",
              "      <td>1</td>\n",
              "      <td>0</td>\n",
              "      <td>Friendly</td>\n",
              "      <td>Los Angeles</td>\n",
              "      <td>United States</td>\n",
              "      <td>True</td>\n",
              "    </tr>\n",
              "    <tr>\n",
              "      <th>17975</th>\n",
              "      <td>1993-09-22</td>\n",
              "      <td>San Marino</td>\n",
              "      <td>Netherlands</td>\n",
              "      <td>0</td>\n",
              "      <td>7</td>\n",
              "      <td>FIFA World Cup qualification</td>\n",
              "      <td>Bologna</td>\n",
              "      <td>Italy</td>\n",
              "      <td>True</td>\n",
              "    </tr>\n",
              "    <tr>\n",
              "      <th>17984</th>\n",
              "      <td>1993-09-29</td>\n",
              "      <td>Mexico</td>\n",
              "      <td>Poland</td>\n",
              "      <td>0</td>\n",
              "      <td>0</td>\n",
              "      <td>Friendly</td>\n",
              "      <td>Oakland</td>\n",
              "      <td>United States</td>\n",
              "      <td>True</td>\n",
              "    </tr>\n",
              "    <tr>\n",
              "      <th>17989</th>\n",
              "      <td>1993-10-06</td>\n",
              "      <td>Mexico</td>\n",
              "      <td>South Africa</td>\n",
              "      <td>4</td>\n",
              "      <td>0</td>\n",
              "      <td>Friendly</td>\n",
              "      <td>Los Angeles</td>\n",
              "      <td>United States</td>\n",
              "      <td>True</td>\n",
              "    </tr>\n",
              "    <tr>\n",
              "      <th>18009</th>\n",
              "      <td>1993-10-15</td>\n",
              "      <td>North Korea</td>\n",
              "      <td>Iraq</td>\n",
              "      <td>3</td>\n",
              "      <td>2</td>\n",
              "      <td>FIFA World Cup qualification</td>\n",
              "      <td>Doha</td>\n",
              "      <td>Qatar</td>\n",
              "      <td>True</td>\n",
              "    </tr>\n",
              "  </tbody>\n",
              "</table>\n",
              "</div>"
            ],
            "text/plain": [
              "             date    home_team  ...        country  neutral\n",
              "17972  1993-09-22       Mexico  ...  United States     True\n",
              "17975  1993-09-22   San Marino  ...          Italy     True\n",
              "17984  1993-09-29       Mexico  ...  United States     True\n",
              "17989  1993-10-06       Mexico  ...  United States     True\n",
              "18009  1993-10-15  North Korea  ...          Qatar     True\n",
              "\n",
              "[5 rows x 9 columns]"
            ]
          },
          "metadata": {
            "tags": []
          },
          "execution_count": 489
        }
      ]
    },
    {
      "cell_type": "code",
      "metadata": {
        "id": "51A1Wm0nYT0s",
        "colab_type": "code",
        "colab": {
          "base_uri": "https://localhost:8080/",
          "height": 281
        },
        "outputId": "dae518d3-424f-47eb-ab48-b4f0becca2d5"
      },
      "source": [
        "#Dropping the city and neutral columns since they are not required\n",
        "results2.drop(['city','neutral'], axis = 1, inplace = True)\n",
        "results2.head()"
      ],
      "execution_count": 490,
      "outputs": [
        {
          "output_type": "stream",
          "text": [
            "/usr/local/lib/python3.6/dist-packages/pandas/core/frame.py:3997: SettingWithCopyWarning: \n",
            "A value is trying to be set on a copy of a slice from a DataFrame\n",
            "\n",
            "See the caveats in the documentation: https://pandas.pydata.org/pandas-docs/stable/user_guide/indexing.html#returning-a-view-versus-a-copy\n",
            "  errors=errors,\n"
          ],
          "name": "stderr"
        },
        {
          "output_type": "execute_result",
          "data": {
            "text/html": [
              "<div>\n",
              "<style scoped>\n",
              "    .dataframe tbody tr th:only-of-type {\n",
              "        vertical-align: middle;\n",
              "    }\n",
              "\n",
              "    .dataframe tbody tr th {\n",
              "        vertical-align: top;\n",
              "    }\n",
              "\n",
              "    .dataframe thead th {\n",
              "        text-align: right;\n",
              "    }\n",
              "</style>\n",
              "<table border=\"1\" class=\"dataframe\">\n",
              "  <thead>\n",
              "    <tr style=\"text-align: right;\">\n",
              "      <th></th>\n",
              "      <th>date</th>\n",
              "      <th>home_team</th>\n",
              "      <th>away_team</th>\n",
              "      <th>home_score</th>\n",
              "      <th>away_score</th>\n",
              "      <th>tournament</th>\n",
              "      <th>country</th>\n",
              "    </tr>\n",
              "  </thead>\n",
              "  <tbody>\n",
              "    <tr>\n",
              "      <th>17972</th>\n",
              "      <td>1993-09-22</td>\n",
              "      <td>Mexico</td>\n",
              "      <td>Cameroon</td>\n",
              "      <td>1</td>\n",
              "      <td>0</td>\n",
              "      <td>Friendly</td>\n",
              "      <td>United States</td>\n",
              "    </tr>\n",
              "    <tr>\n",
              "      <th>17975</th>\n",
              "      <td>1993-09-22</td>\n",
              "      <td>San Marino</td>\n",
              "      <td>Netherlands</td>\n",
              "      <td>0</td>\n",
              "      <td>7</td>\n",
              "      <td>FIFA World Cup qualification</td>\n",
              "      <td>Italy</td>\n",
              "    </tr>\n",
              "    <tr>\n",
              "      <th>17984</th>\n",
              "      <td>1993-09-29</td>\n",
              "      <td>Mexico</td>\n",
              "      <td>Poland</td>\n",
              "      <td>0</td>\n",
              "      <td>0</td>\n",
              "      <td>Friendly</td>\n",
              "      <td>United States</td>\n",
              "    </tr>\n",
              "    <tr>\n",
              "      <th>17989</th>\n",
              "      <td>1993-10-06</td>\n",
              "      <td>Mexico</td>\n",
              "      <td>South Africa</td>\n",
              "      <td>4</td>\n",
              "      <td>0</td>\n",
              "      <td>Friendly</td>\n",
              "      <td>United States</td>\n",
              "    </tr>\n",
              "    <tr>\n",
              "      <th>18009</th>\n",
              "      <td>1993-10-15</td>\n",
              "      <td>North Korea</td>\n",
              "      <td>Iraq</td>\n",
              "      <td>3</td>\n",
              "      <td>2</td>\n",
              "      <td>FIFA World Cup qualification</td>\n",
              "      <td>Qatar</td>\n",
              "    </tr>\n",
              "  </tbody>\n",
              "</table>\n",
              "</div>"
            ],
            "text/plain": [
              "             date    home_team  ...                    tournament        country\n",
              "17972  1993-09-22       Mexico  ...                      Friendly  United States\n",
              "17975  1993-09-22   San Marino  ...  FIFA World Cup qualification          Italy\n",
              "17984  1993-09-29       Mexico  ...                      Friendly  United States\n",
              "17989  1993-10-06       Mexico  ...                      Friendly  United States\n",
              "18009  1993-10-15  North Korea  ...  FIFA World Cup qualification          Qatar\n",
              "\n",
              "[5 rows x 7 columns]"
            ]
          },
          "metadata": {
            "tags": []
          },
          "execution_count": 490
        }
      ]
    },
    {
      "cell_type": "markdown",
      "metadata": {
        "id": "DJEByysM9VuU",
        "colab_type": "text"
      },
      "source": [
        "### c.) Merging dataset"
      ]
    },
    {
      "cell_type": "code",
      "metadata": {
        "id": "QcNsXncL_qmk",
        "colab_type": "code",
        "colab": {
          "base_uri": "https://localhost:8080/",
          "height": 33
        },
        "outputId": "91b80a86-5d53-4321-9d33-a988c34c1e5b"
      },
      "source": [
        "#Renaming the country_full column to home_team to facilitate ease when merging\n",
        "rank.rename(columns = {'country_full':'home_team', 'rank_date' : 'date'}, inplace = True)\n",
        "rank.shape"
      ],
      "execution_count": 491,
      "outputs": [
        {
          "output_type": "execute_result",
          "data": {
            "text/plain": [
              "(57756, 3)"
            ]
          },
          "metadata": {
            "tags": []
          },
          "execution_count": 491
        }
      ]
    },
    {
      "cell_type": "code",
      "metadata": {
        "id": "ORDel0wtQ6x6",
        "colab_type": "code",
        "colab": {
          "base_uri": "https://localhost:8080/",
          "height": 197
        },
        "outputId": "0b370d20-cbde-47d0-9c46-17bb81ebccf6"
      },
      "source": [
        "#Merging the two datasets in order to get the rank of the home team\n",
        "fifa1 = results2.merge(rank, how = 'inner', on  = ['home_team','date'])\n",
        "fifa1.head()"
      ],
      "execution_count": 492,
      "outputs": [
        {
          "output_type": "execute_result",
          "data": {
            "text/html": [
              "<div>\n",
              "<style scoped>\n",
              "    .dataframe tbody tr th:only-of-type {\n",
              "        vertical-align: middle;\n",
              "    }\n",
              "\n",
              "    .dataframe tbody tr th {\n",
              "        vertical-align: top;\n",
              "    }\n",
              "\n",
              "    .dataframe thead th {\n",
              "        text-align: right;\n",
              "    }\n",
              "</style>\n",
              "<table border=\"1\" class=\"dataframe\">\n",
              "  <thead>\n",
              "    <tr style=\"text-align: right;\">\n",
              "      <th></th>\n",
              "      <th>date</th>\n",
              "      <th>home_team</th>\n",
              "      <th>away_team</th>\n",
              "      <th>home_score</th>\n",
              "      <th>away_score</th>\n",
              "      <th>tournament</th>\n",
              "      <th>country</th>\n",
              "      <th>rank</th>\n",
              "    </tr>\n",
              "  </thead>\n",
              "  <tbody>\n",
              "    <tr>\n",
              "      <th>0</th>\n",
              "      <td>1995-07-25</td>\n",
              "      <td>Antigua and Barbuda</td>\n",
              "      <td>French Guiana</td>\n",
              "      <td>2</td>\n",
              "      <td>1</td>\n",
              "      <td>CFU Caribbean Cup</td>\n",
              "      <td>Cayman Islands</td>\n",
              "      <td>145</td>\n",
              "    </tr>\n",
              "    <tr>\n",
              "      <th>1</th>\n",
              "      <td>1995-07-25</td>\n",
              "      <td>Iraq</td>\n",
              "      <td>Bulgaria</td>\n",
              "      <td>1</td>\n",
              "      <td>0</td>\n",
              "      <td>Merdeka Tournament</td>\n",
              "      <td>Malaysia</td>\n",
              "      <td>98</td>\n",
              "    </tr>\n",
              "    <tr>\n",
              "      <th>2</th>\n",
              "      <td>1995-08-22</td>\n",
              "      <td>Fiji</td>\n",
              "      <td>Vanuatu</td>\n",
              "      <td>3</td>\n",
              "      <td>1</td>\n",
              "      <td>South Pacific Games</td>\n",
              "      <td>French Polynesia</td>\n",
              "      <td>137</td>\n",
              "    </tr>\n",
              "    <tr>\n",
              "      <th>3</th>\n",
              "      <td>1995-08-22</td>\n",
              "      <td>Tahiti</td>\n",
              "      <td>Cook Islands</td>\n",
              "      <td>11</td>\n",
              "      <td>0</td>\n",
              "      <td>South Pacific Games</td>\n",
              "      <td>French Polynesia</td>\n",
              "      <td>157</td>\n",
              "    </tr>\n",
              "    <tr>\n",
              "      <th>4</th>\n",
              "      <td>1996-01-24</td>\n",
              "      <td>Angola</td>\n",
              "      <td>Cameroon</td>\n",
              "      <td>3</td>\n",
              "      <td>3</td>\n",
              "      <td>African Cup of Nations</td>\n",
              "      <td>South Africa</td>\n",
              "      <td>82</td>\n",
              "    </tr>\n",
              "  </tbody>\n",
              "</table>\n",
              "</div>"
            ],
            "text/plain": [
              "         date            home_team  ...           country  rank\n",
              "0  1995-07-25  Antigua and Barbuda  ...    Cayman Islands   145\n",
              "1  1995-07-25                 Iraq  ...          Malaysia    98\n",
              "2  1995-08-22                 Fiji  ...  French Polynesia   137\n",
              "3  1995-08-22               Tahiti  ...  French Polynesia   157\n",
              "4  1996-01-24               Angola  ...      South Africa    82\n",
              "\n",
              "[5 rows x 8 columns]"
            ]
          },
          "metadata": {
            "tags": []
          },
          "execution_count": 492
        }
      ]
    },
    {
      "cell_type": "code",
      "metadata": {
        "id": "kSUP0t6xUILa",
        "colab_type": "code",
        "colab": {
          "base_uri": "https://localhost:8080/",
          "height": 33
        },
        "outputId": "257de5fb-7e21-45ad-9cd3-868cf6eb3c63"
      },
      "source": [
        "#Renaming the rank column of the merged dataset to home rank\n",
        "fifa1.rename(columns = {'rank':'home_rank'}, inplace = True)\n",
        "fifa1.shape"
      ],
      "execution_count": 493,
      "outputs": [
        {
          "output_type": "execute_result",
          "data": {
            "text/plain": [
              "(158, 8)"
            ]
          },
          "metadata": {
            "tags": []
          },
          "execution_count": 493
        }
      ]
    },
    {
      "cell_type": "code",
      "metadata": {
        "id": "03C6hT7IT7pd",
        "colab_type": "code",
        "colab": {
          "base_uri": "https://localhost:8080/",
          "height": 197
        },
        "outputId": "337055ca-5683-45c3-912b-72c49d2116c9"
      },
      "source": [
        "#Getting the rank of the away team\n",
        "#Renaming the home team which was named country to away team in order to get the away rank \n",
        "rank.rename(columns = {'home_team':'away_team'}, inplace = True)\n",
        "rank.head()"
      ],
      "execution_count": 494,
      "outputs": [
        {
          "output_type": "execute_result",
          "data": {
            "text/html": [
              "<div>\n",
              "<style scoped>\n",
              "    .dataframe tbody tr th:only-of-type {\n",
              "        vertical-align: middle;\n",
              "    }\n",
              "\n",
              "    .dataframe tbody tr th {\n",
              "        vertical-align: top;\n",
              "    }\n",
              "\n",
              "    .dataframe thead th {\n",
              "        text-align: right;\n",
              "    }\n",
              "</style>\n",
              "<table border=\"1\" class=\"dataframe\">\n",
              "  <thead>\n",
              "    <tr style=\"text-align: right;\">\n",
              "      <th></th>\n",
              "      <th>rank</th>\n",
              "      <th>away_team</th>\n",
              "      <th>date</th>\n",
              "    </tr>\n",
              "  </thead>\n",
              "  <tbody>\n",
              "    <tr>\n",
              "      <th>0</th>\n",
              "      <td>1</td>\n",
              "      <td>Germany</td>\n",
              "      <td>1993-08-08</td>\n",
              "    </tr>\n",
              "    <tr>\n",
              "      <th>1</th>\n",
              "      <td>2</td>\n",
              "      <td>Italy</td>\n",
              "      <td>1993-08-08</td>\n",
              "    </tr>\n",
              "    <tr>\n",
              "      <th>2</th>\n",
              "      <td>3</td>\n",
              "      <td>Switzerland</td>\n",
              "      <td>1993-08-08</td>\n",
              "    </tr>\n",
              "    <tr>\n",
              "      <th>3</th>\n",
              "      <td>4</td>\n",
              "      <td>Sweden</td>\n",
              "      <td>1993-08-08</td>\n",
              "    </tr>\n",
              "    <tr>\n",
              "      <th>4</th>\n",
              "      <td>5</td>\n",
              "      <td>Argentina</td>\n",
              "      <td>1993-08-08</td>\n",
              "    </tr>\n",
              "  </tbody>\n",
              "</table>\n",
              "</div>"
            ],
            "text/plain": [
              "   rank    away_team        date\n",
              "0     1      Germany  1993-08-08\n",
              "1     2        Italy  1993-08-08\n",
              "2     3  Switzerland  1993-08-08\n",
              "3     4       Sweden  1993-08-08\n",
              "4     5    Argentina  1993-08-08"
            ]
          },
          "metadata": {
            "tags": []
          },
          "execution_count": 494
        }
      ]
    },
    {
      "cell_type": "code",
      "metadata": {
        "id": "X-O1ssY2TvB0",
        "colab_type": "code",
        "colab": {
          "base_uri": "https://localhost:8080/",
          "height": 197
        },
        "outputId": "73facc8e-19b6-41cf-829a-e9daad77f189"
      },
      "source": [
        "#Merging the results dataset and the new rank dataset in order to get the rank of the away team\n",
        "fifa2 = results2.merge(rank, how = 'inner', on  = ['away_team','date'])\n",
        "fifa2.head()"
      ],
      "execution_count": 495,
      "outputs": [
        {
          "output_type": "execute_result",
          "data": {
            "text/html": [
              "<div>\n",
              "<style scoped>\n",
              "    .dataframe tbody tr th:only-of-type {\n",
              "        vertical-align: middle;\n",
              "    }\n",
              "\n",
              "    .dataframe tbody tr th {\n",
              "        vertical-align: top;\n",
              "    }\n",
              "\n",
              "    .dataframe thead th {\n",
              "        text-align: right;\n",
              "    }\n",
              "</style>\n",
              "<table border=\"1\" class=\"dataframe\">\n",
              "  <thead>\n",
              "    <tr style=\"text-align: right;\">\n",
              "      <th></th>\n",
              "      <th>date</th>\n",
              "      <th>home_team</th>\n",
              "      <th>away_team</th>\n",
              "      <th>home_score</th>\n",
              "      <th>away_score</th>\n",
              "      <th>tournament</th>\n",
              "      <th>country</th>\n",
              "      <th>rank</th>\n",
              "    </tr>\n",
              "  </thead>\n",
              "  <tbody>\n",
              "    <tr>\n",
              "      <th>0</th>\n",
              "      <td>1993-10-22</td>\n",
              "      <td>Iran</td>\n",
              "      <td>Iraq</td>\n",
              "      <td>1</td>\n",
              "      <td>2</td>\n",
              "      <td>FIFA World Cup qualification</td>\n",
              "      <td>Qatar</td>\n",
              "      <td>64</td>\n",
              "    </tr>\n",
              "    <tr>\n",
              "      <th>1</th>\n",
              "      <td>1993-10-22</td>\n",
              "      <td>South Korea</td>\n",
              "      <td>Saudi Arabia</td>\n",
              "      <td>1</td>\n",
              "      <td>1</td>\n",
              "      <td>FIFA World Cup qualification</td>\n",
              "      <td>Qatar</td>\n",
              "      <td>46</td>\n",
              "    </tr>\n",
              "    <tr>\n",
              "      <th>2</th>\n",
              "      <td>1995-07-25</td>\n",
              "      <td>Iraq</td>\n",
              "      <td>Bulgaria</td>\n",
              "      <td>1</td>\n",
              "      <td>0</td>\n",
              "      <td>Merdeka Tournament</td>\n",
              "      <td>Malaysia</td>\n",
              "      <td>11</td>\n",
              "    </tr>\n",
              "    <tr>\n",
              "      <th>3</th>\n",
              "      <td>1995-08-22</td>\n",
              "      <td>Fiji</td>\n",
              "      <td>Vanuatu</td>\n",
              "      <td>3</td>\n",
              "      <td>1</td>\n",
              "      <td>South Pacific Games</td>\n",
              "      <td>French Polynesia</td>\n",
              "      <td>177</td>\n",
              "    </tr>\n",
              "    <tr>\n",
              "      <th>4</th>\n",
              "      <td>1996-01-24</td>\n",
              "      <td>Angola</td>\n",
              "      <td>Cameroon</td>\n",
              "      <td>3</td>\n",
              "      <td>3</td>\n",
              "      <td>African Cup of Nations</td>\n",
              "      <td>South Africa</td>\n",
              "      <td>32</td>\n",
              "    </tr>\n",
              "  </tbody>\n",
              "</table>\n",
              "</div>"
            ],
            "text/plain": [
              "         date    home_team  ...           country  rank\n",
              "0  1993-10-22         Iran  ...             Qatar    64\n",
              "1  1993-10-22  South Korea  ...             Qatar    46\n",
              "2  1995-07-25         Iraq  ...          Malaysia    11\n",
              "3  1995-08-22         Fiji  ...  French Polynesia   177\n",
              "4  1996-01-24       Angola  ...      South Africa    32\n",
              "\n",
              "[5 rows x 8 columns]"
            ]
          },
          "metadata": {
            "tags": []
          },
          "execution_count": 495
        }
      ]
    },
    {
      "cell_type": "code",
      "metadata": {
        "id": "4Yhcrwv1UXmi",
        "colab_type": "code",
        "colab": {
          "base_uri": "https://localhost:8080/",
          "height": 197
        },
        "outputId": "22537303-6b50-4491-efc8-4143bff11ed0"
      },
      "source": [
        "#Renaming the rank column of the merged dataset to away rank\n",
        "fifa2.rename(columns = {'rank':'away_rank'}, inplace = True)\n",
        "fifa2.head()"
      ],
      "execution_count": 496,
      "outputs": [
        {
          "output_type": "execute_result",
          "data": {
            "text/html": [
              "<div>\n",
              "<style scoped>\n",
              "    .dataframe tbody tr th:only-of-type {\n",
              "        vertical-align: middle;\n",
              "    }\n",
              "\n",
              "    .dataframe tbody tr th {\n",
              "        vertical-align: top;\n",
              "    }\n",
              "\n",
              "    .dataframe thead th {\n",
              "        text-align: right;\n",
              "    }\n",
              "</style>\n",
              "<table border=\"1\" class=\"dataframe\">\n",
              "  <thead>\n",
              "    <tr style=\"text-align: right;\">\n",
              "      <th></th>\n",
              "      <th>date</th>\n",
              "      <th>home_team</th>\n",
              "      <th>away_team</th>\n",
              "      <th>home_score</th>\n",
              "      <th>away_score</th>\n",
              "      <th>tournament</th>\n",
              "      <th>country</th>\n",
              "      <th>away_rank</th>\n",
              "    </tr>\n",
              "  </thead>\n",
              "  <tbody>\n",
              "    <tr>\n",
              "      <th>0</th>\n",
              "      <td>1993-10-22</td>\n",
              "      <td>Iran</td>\n",
              "      <td>Iraq</td>\n",
              "      <td>1</td>\n",
              "      <td>2</td>\n",
              "      <td>FIFA World Cup qualification</td>\n",
              "      <td>Qatar</td>\n",
              "      <td>64</td>\n",
              "    </tr>\n",
              "    <tr>\n",
              "      <th>1</th>\n",
              "      <td>1993-10-22</td>\n",
              "      <td>South Korea</td>\n",
              "      <td>Saudi Arabia</td>\n",
              "      <td>1</td>\n",
              "      <td>1</td>\n",
              "      <td>FIFA World Cup qualification</td>\n",
              "      <td>Qatar</td>\n",
              "      <td>46</td>\n",
              "    </tr>\n",
              "    <tr>\n",
              "      <th>2</th>\n",
              "      <td>1995-07-25</td>\n",
              "      <td>Iraq</td>\n",
              "      <td>Bulgaria</td>\n",
              "      <td>1</td>\n",
              "      <td>0</td>\n",
              "      <td>Merdeka Tournament</td>\n",
              "      <td>Malaysia</td>\n",
              "      <td>11</td>\n",
              "    </tr>\n",
              "    <tr>\n",
              "      <th>3</th>\n",
              "      <td>1995-08-22</td>\n",
              "      <td>Fiji</td>\n",
              "      <td>Vanuatu</td>\n",
              "      <td>3</td>\n",
              "      <td>1</td>\n",
              "      <td>South Pacific Games</td>\n",
              "      <td>French Polynesia</td>\n",
              "      <td>177</td>\n",
              "    </tr>\n",
              "    <tr>\n",
              "      <th>4</th>\n",
              "      <td>1996-01-24</td>\n",
              "      <td>Angola</td>\n",
              "      <td>Cameroon</td>\n",
              "      <td>3</td>\n",
              "      <td>3</td>\n",
              "      <td>African Cup of Nations</td>\n",
              "      <td>South Africa</td>\n",
              "      <td>32</td>\n",
              "    </tr>\n",
              "  </tbody>\n",
              "</table>\n",
              "</div>"
            ],
            "text/plain": [
              "         date    home_team  ...           country  away_rank\n",
              "0  1993-10-22         Iran  ...             Qatar         64\n",
              "1  1993-10-22  South Korea  ...             Qatar         46\n",
              "2  1995-07-25         Iraq  ...          Malaysia         11\n",
              "3  1995-08-22         Fiji  ...  French Polynesia        177\n",
              "4  1996-01-24       Angola  ...      South Africa         32\n",
              "\n",
              "[5 rows x 8 columns]"
            ]
          },
          "metadata": {
            "tags": []
          },
          "execution_count": 496
        }
      ]
    },
    {
      "cell_type": "code",
      "metadata": {
        "id": "g0vjl82QVWH6",
        "colab_type": "code",
        "colab": {
          "base_uri": "https://localhost:8080/",
          "height": 197
        },
        "outputId": "c12ae5a3-3e71-4e6f-d066-ef71743479b5"
      },
      "source": [
        "#Merging the merged dataset to have both the home team rank and the away team rank in one dataset\n",
        "fifa3 = fifa1.merge(fifa2, how = 'inner', on  = ['date','home_team','away_team', 'tournament','home_score','away_score','country',])\n",
        "fifa3.head()"
      ],
      "execution_count": 497,
      "outputs": [
        {
          "output_type": "execute_result",
          "data": {
            "text/html": [
              "<div>\n",
              "<style scoped>\n",
              "    .dataframe tbody tr th:only-of-type {\n",
              "        vertical-align: middle;\n",
              "    }\n",
              "\n",
              "    .dataframe tbody tr th {\n",
              "        vertical-align: top;\n",
              "    }\n",
              "\n",
              "    .dataframe thead th {\n",
              "        text-align: right;\n",
              "    }\n",
              "</style>\n",
              "<table border=\"1\" class=\"dataframe\">\n",
              "  <thead>\n",
              "    <tr style=\"text-align: right;\">\n",
              "      <th></th>\n",
              "      <th>date</th>\n",
              "      <th>home_team</th>\n",
              "      <th>away_team</th>\n",
              "      <th>home_score</th>\n",
              "      <th>away_score</th>\n",
              "      <th>tournament</th>\n",
              "      <th>country</th>\n",
              "      <th>home_rank</th>\n",
              "      <th>away_rank</th>\n",
              "    </tr>\n",
              "  </thead>\n",
              "  <tbody>\n",
              "    <tr>\n",
              "      <th>0</th>\n",
              "      <td>1995-07-25</td>\n",
              "      <td>Iraq</td>\n",
              "      <td>Bulgaria</td>\n",
              "      <td>1</td>\n",
              "      <td>0</td>\n",
              "      <td>Merdeka Tournament</td>\n",
              "      <td>Malaysia</td>\n",
              "      <td>98</td>\n",
              "      <td>11</td>\n",
              "    </tr>\n",
              "    <tr>\n",
              "      <th>1</th>\n",
              "      <td>1995-08-22</td>\n",
              "      <td>Fiji</td>\n",
              "      <td>Vanuatu</td>\n",
              "      <td>3</td>\n",
              "      <td>1</td>\n",
              "      <td>South Pacific Games</td>\n",
              "      <td>French Polynesia</td>\n",
              "      <td>137</td>\n",
              "      <td>177</td>\n",
              "    </tr>\n",
              "    <tr>\n",
              "      <th>2</th>\n",
              "      <td>1996-01-24</td>\n",
              "      <td>Angola</td>\n",
              "      <td>Cameroon</td>\n",
              "      <td>3</td>\n",
              "      <td>3</td>\n",
              "      <td>African Cup of Nations</td>\n",
              "      <td>South Africa</td>\n",
              "      <td>82</td>\n",
              "      <td>32</td>\n",
              "    </tr>\n",
              "    <tr>\n",
              "      <th>3</th>\n",
              "      <td>1996-01-24</td>\n",
              "      <td>Burkina Faso</td>\n",
              "      <td>Algeria</td>\n",
              "      <td>1</td>\n",
              "      <td>2</td>\n",
              "      <td>African Cup of Nations</td>\n",
              "      <td>South Africa</td>\n",
              "      <td>105</td>\n",
              "      <td>44</td>\n",
              "    </tr>\n",
              "    <tr>\n",
              "      <th>4</th>\n",
              "      <td>1996-01-24</td>\n",
              "      <td>Sierra Leone</td>\n",
              "      <td>Zambia</td>\n",
              "      <td>0</td>\n",
              "      <td>4</td>\n",
              "      <td>African Cup of Nations</td>\n",
              "      <td>South Africa</td>\n",
              "      <td>51</td>\n",
              "      <td>23</td>\n",
              "    </tr>\n",
              "  </tbody>\n",
              "</table>\n",
              "</div>"
            ],
            "text/plain": [
              "         date     home_team away_team  ...           country  home_rank away_rank\n",
              "0  1995-07-25          Iraq  Bulgaria  ...          Malaysia         98        11\n",
              "1  1995-08-22          Fiji   Vanuatu  ...  French Polynesia        137       177\n",
              "2  1996-01-24        Angola  Cameroon  ...      South Africa         82        32\n",
              "3  1996-01-24  Burkina Faso   Algeria  ...      South Africa        105        44\n",
              "4  1996-01-24  Sierra Leone    Zambia  ...      South Africa         51        23\n",
              "\n",
              "[5 rows x 9 columns]"
            ]
          },
          "metadata": {
            "tags": []
          },
          "execution_count": 497
        }
      ]
    },
    {
      "cell_type": "code",
      "metadata": {
        "id": "1myAvOUtguAP",
        "colab_type": "code",
        "colab": {
          "base_uri": "https://localhost:8080/",
          "height": 183
        },
        "outputId": "5e6619d1-6839-4efd-ea03-13c367bccd1f"
      },
      "source": [
        "#Checking for null values in the new dataset\n",
        "fifa3.isnull().sum()"
      ],
      "execution_count": 498,
      "outputs": [
        {
          "output_type": "execute_result",
          "data": {
            "text/plain": [
              "date          0\n",
              "home_team     0\n",
              "away_team     0\n",
              "home_score    0\n",
              "away_score    0\n",
              "tournament    0\n",
              "country       0\n",
              "home_rank     0\n",
              "away_rank     0\n",
              "dtype: int64"
            ]
          },
          "metadata": {
            "tags": []
          },
          "execution_count": 498
        }
      ]
    },
    {
      "cell_type": "code",
      "metadata": {
        "id": "LWK7mHnuHfSR",
        "colab_type": "code",
        "colab": {
          "base_uri": "https://localhost:8080/",
          "height": 678
        },
        "outputId": "8ea09579-64d2-41b3-e9db-81e7b6f1e900"
      },
      "source": [
        "#checking for outliers\n",
        "fig, ((ax1, ax2, ax3,ax4)) = plt.subplots(1,4, figsize=(20, 10))\n",
        "fig.suptitle('Boxplots for numeric variables')\n",
        "sns.boxplot(fifa3['home_score'], ax=ax1)\n",
        "sns.boxplot(fifa3['away_score'], ax=ax2)\n",
        "sns.boxplot(fifa3['home_rank'], ax=ax3)\n",
        "sns.boxplot(fifa3['away_rank'], ax=ax4)\n",
        "plt.show()"
      ],
      "execution_count": 499,
      "outputs": [
        {
          "output_type": "display_data",
          "data": {
            "image/png": "[encoded data removed]",
            "text/plain": [
              "<Figure size 1440x720 with 4 Axes>"
            ]
          },
          "metadata": {
            "tags": [],
            "needs_background": "light"
          }
        }
      ]
    },
    {
      "cell_type": "markdown",
      "metadata": {
        "id": "pKuEIoRRIDr7",
        "colab_type": "text"
      },
      "source": [
        "Outliers are present on the scores of both home teams and away teams. Removing these outliers would imply removing actual scores of teams. Therefore, these outliers will not be removed"
      ]
    },
    {
      "cell_type": "markdown",
      "metadata": {
        "id": "z84qXpFFfv3n",
        "colab_type": "text"
      },
      "source": [
        "## 6. Exploratory Analysis"
      ]
    },
    {
      "cell_type": "code",
      "metadata": {
        "id": "sZx6EmQkfvl-",
        "colab_type": "code",
        "colab": {
          "base_uri": "https://localhost:8080/",
          "height": 287
        },
        "outputId": "c7be0fd7-481e-433e-ab87-a52904127bfd"
      },
      "source": [
        "#Checking statatical description of the dataset\n",
        "\n",
        "fifa3.describe()"
      ],
      "execution_count": 500,
      "outputs": [
        {
          "output_type": "execute_result",
          "data": {
            "text/html": [
              "<div>\n",
              "<style scoped>\n",
              "    .dataframe tbody tr th:only-of-type {\n",
              "        vertical-align: middle;\n",
              "    }\n",
              "\n",
              "    .dataframe tbody tr th {\n",
              "        vertical-align: top;\n",
              "    }\n",
              "\n",
              "    .dataframe thead th {\n",
              "        text-align: right;\n",
              "    }\n",
              "</style>\n",
              "<table border=\"1\" class=\"dataframe\">\n",
              "  <thead>\n",
              "    <tr style=\"text-align: right;\">\n",
              "      <th></th>\n",
              "      <th>home_score</th>\n",
              "      <th>away_score</th>\n",
              "      <th>home_rank</th>\n",
              "      <th>away_rank</th>\n",
              "    </tr>\n",
              "  </thead>\n",
              "  <tbody>\n",
              "    <tr>\n",
              "      <th>count</th>\n",
              "      <td>138.000000</td>\n",
              "      <td>138.000000</td>\n",
              "      <td>138.000000</td>\n",
              "      <td>138.000000</td>\n",
              "    </tr>\n",
              "    <tr>\n",
              "      <th>mean</th>\n",
              "      <td>1.637681</td>\n",
              "      <td>1.239130</td>\n",
              "      <td>72.036232</td>\n",
              "      <td>78.384058</td>\n",
              "    </tr>\n",
              "    <tr>\n",
              "      <th>std</th>\n",
              "      <td>1.660806</td>\n",
              "      <td>1.432441</td>\n",
              "      <td>50.654319</td>\n",
              "      <td>51.670393</td>\n",
              "    </tr>\n",
              "    <tr>\n",
              "      <th>min</th>\n",
              "      <td>0.000000</td>\n",
              "      <td>0.000000</td>\n",
              "      <td>1.000000</td>\n",
              "      <td>1.000000</td>\n",
              "    </tr>\n",
              "    <tr>\n",
              "      <th>25%</th>\n",
              "      <td>0.000000</td>\n",
              "      <td>0.000000</td>\n",
              "      <td>28.500000</td>\n",
              "      <td>35.250000</td>\n",
              "    </tr>\n",
              "    <tr>\n",
              "      <th>50%</th>\n",
              "      <td>1.000000</td>\n",
              "      <td>1.000000</td>\n",
              "      <td>67.000000</td>\n",
              "      <td>72.000000</td>\n",
              "    </tr>\n",
              "    <tr>\n",
              "      <th>75%</th>\n",
              "      <td>2.000000</td>\n",
              "      <td>2.000000</td>\n",
              "      <td>102.500000</td>\n",
              "      <td>111.000000</td>\n",
              "    </tr>\n",
              "    <tr>\n",
              "      <th>max</th>\n",
              "      <td>9.000000</td>\n",
              "      <td>9.000000</td>\n",
              "      <td>206.000000</td>\n",
              "      <td>204.000000</td>\n",
              "    </tr>\n",
              "  </tbody>\n",
              "</table>\n",
              "</div>"
            ],
            "text/plain": [
              "       home_score  away_score   home_rank   away_rank\n",
              "count  138.000000  138.000000  138.000000  138.000000\n",
              "mean     1.637681    1.239130   72.036232   78.384058\n",
              "std      1.660806    1.432441   50.654319   51.670393\n",
              "min      0.000000    0.000000    1.000000    1.000000\n",
              "25%      0.000000    0.000000   28.500000   35.250000\n",
              "50%      1.000000    1.000000   67.000000   72.000000\n",
              "75%      2.000000    2.000000  102.500000  111.000000\n",
              "max      9.000000    9.000000  206.000000  204.000000"
            ]
          },
          "metadata": {
            "tags": []
          },
          "execution_count": 500
        }
      ]
    },
    {
      "cell_type": "code",
      "metadata": {
        "id": "G-2d8JnXilVR",
        "colab_type": "code",
        "colab": {
          "base_uri": "https://localhost:8080/",
          "height": 971
        },
        "outputId": "b0faaca5-ce15-4c1c-8503-e28ff6b74550"
      },
      "source": [
        "#Plotting the numerical variables on histogram to view their distributions.\n",
        "fifa3.hist(bins=10, figsize=(15,15))\n",
        "plt.suptitle(\"Histogram of numeric variables\")\n",
        "plt.savefig('Fifa Histogram')\n",
        "plt.show()"
      ],
      "execution_count": 501,
      "outputs": [
        {
          "output_type": "display_data",
          "data": {
            "image/png": "[encoded data removed]",
            "text/plain": [
              "<Figure size 1080x1080 with 4 Axes>"
            ]
          },
          "metadata": {
            "tags": [],
            "needs_background": "light"
          }
        }
      ]
    },
    {
      "cell_type": "markdown",
      "metadata": {
        "id": "1YzEFClJHKq4",
        "colab_type": "text"
      },
      "source": [
        "The variables form a normal distribution and are all skewed to the right."
      ]
    },
    {
      "cell_type": "code",
      "metadata": {
        "id": "I9FZW-DVmOj8",
        "colab_type": "code",
        "colab": {
          "base_uri": "https://localhost:8080/",
          "height": 297
        },
        "outputId": "41b86195-5f03-43fe-8a7d-5f3d4b983842"
      },
      "source": [
        "#Distribution plot for home scores\n",
        "sns.distplot(fifa3['home_score'], bins=10) "
      ],
      "execution_count": 502,
      "outputs": [
        {
          "output_type": "execute_result",
          "data": {
            "text/plain": [
              "<matplotlib.axes._subplots.AxesSubplot at 0x7fb92ad9dc50>"
            ]
          },
          "metadata": {
            "tags": []
          },
          "execution_count": 502
        },
        {
          "output_type": "display_data",
          "data": {
            "image/png": "[encoded data removed]",
            "text/plain": [
              "<Figure size 432x288 with 1 Axes>"
            ]
          },
          "metadata": {
            "tags": [],
            "needs_background": "light"
          }
        }
      ]
    },
    {
      "cell_type": "markdown",
      "metadata": {
        "id": "hGIUek8VJZDz",
        "colab_type": "text"
      },
      "source": [
        "This shows that most of  the home score were 1 to 2 goals"
      ]
    },
    {
      "cell_type": "code",
      "metadata": {
        "id": "jWDfO6Vzmhit",
        "colab_type": "code",
        "colab": {
          "base_uri": "https://localhost:8080/",
          "height": 296
        },
        "outputId": "820c1d46-1e05-48c5-d445-f3380368c05c"
      },
      "source": [
        "#Distribution plot for away scores\n",
        "sns.distplot(fifa3['away_score'], bins=10) "
      ],
      "execution_count": 503,
      "outputs": [
        {
          "output_type": "execute_result",
          "data": {
            "text/plain": [
              "<matplotlib.axes._subplots.AxesSubplot at 0x7fb92941c940>"
            ]
          },
          "metadata": {
            "tags": []
          },
          "execution_count": 503
        },
        {
          "output_type": "display_data",
          "data": {
            "image/png": "[encoded data removed]",
            "text/plain": [
              "<Figure size 432x288 with 1 Axes>"
            ]
          },
          "metadata": {
            "tags": [],
            "needs_background": "light"
          }
        }
      ]
    },
    {
      "cell_type": "markdown",
      "metadata": {
        "id": "AzjOaZZuJhEe",
        "colab_type": "text"
      },
      "source": [
        "This shows that most of  the away scores were 0 to 2 goals"
      ]
    },
    {
      "cell_type": "code",
      "metadata": {
        "id": "DUFvM55dmluJ",
        "colab_type": "code",
        "colab": {
          "base_uri": "https://localhost:8080/",
          "height": 297
        },
        "outputId": "80730660-8fd6-43f0-b4ef-3f6e82612bf4"
      },
      "source": [
        "#Distribution plot for home rank\n",
        "sns.distplot(fifa3['home_rank'], bins=10) "
      ],
      "execution_count": 504,
      "outputs": [
        {
          "output_type": "execute_result",
          "data": {
            "text/plain": [
              "<matplotlib.axes._subplots.AxesSubplot at 0x7fb928e05550>"
            ]
          },
          "metadata": {
            "tags": []
          },
          "execution_count": 504
        },
        {
          "output_type": "display_data",
          "data": {
            "image/png": "[encoded data removed]",
            "text/plain": [
              "<Figure size 432x288 with 1 Axes>"
            ]
          },
          "metadata": {
            "tags": [],
            "needs_background": "light"
          }
        }
      ]
    },
    {
      "cell_type": "markdown",
      "metadata": {
        "id": "gGOgNWrWJzUz",
        "colab_type": "text"
      },
      "source": [
        "Most home teams were ranked between 0 and 25"
      ]
    },
    {
      "cell_type": "code",
      "metadata": {
        "id": "X_NIcmEump5Z",
        "colab_type": "code",
        "colab": {
          "base_uri": "https://localhost:8080/",
          "height": 297
        },
        "outputId": "28d66c71-9af2-46ab-ad3b-036cc03eb3bb"
      },
      "source": [
        "#Distribution plot for away rank\n",
        "sns.distplot(fifa3['away_rank'], bins=10) "
      ],
      "execution_count": 505,
      "outputs": [
        {
          "output_type": "execute_result",
          "data": {
            "text/plain": [
              "<matplotlib.axes._subplots.AxesSubplot at 0x7fb92a55a2e8>"
            ]
          },
          "metadata": {
            "tags": []
          },
          "execution_count": 505
        },
        {
          "output_type": "display_data",
          "data": {
            "image/png": "[encoded data removed]",
            "text/plain": [
              "<Figure size 432x288 with 1 Axes>"
            ]
          },
          "metadata": {
            "tags": [],
            "needs_background": "light"
          }
        }
      ]
    },
    {
      "cell_type": "markdown",
      "metadata": {
        "id": "Q7m-ynALI5yz",
        "colab_type": "text"
      },
      "source": [
        "Most away teams were ranked between 25 and 75"
      ]
    },
    {
      "cell_type": "code",
      "metadata": {
        "id": "5GkeRxwknWnZ",
        "colab_type": "code",
        "colab": {
          "base_uri": "https://localhost:8080/",
          "height": 167
        },
        "outputId": "a9be0328-749e-4944-c6f8-1249172a04f6"
      },
      "source": [
        "#Checking the correlations using correlation Matrix\n",
        "\n",
        "CorrMatrix=fifa3.corr()\n",
        "CorrMatrix   "
      ],
      "execution_count": 506,
      "outputs": [
        {
          "output_type": "execute_result",
          "data": {
            "text/html": [
              "<div>\n",
              "<style scoped>\n",
              "    .dataframe tbody tr th:only-of-type {\n",
              "        vertical-align: middle;\n",
              "    }\n",
              "\n",
              "    .dataframe tbody tr th {\n",
              "        vertical-align: top;\n",
              "    }\n",
              "\n",
              "    .dataframe thead th {\n",
              "        text-align: right;\n",
              "    }\n",
              "</style>\n",
              "<table border=\"1\" class=\"dataframe\">\n",
              "  <thead>\n",
              "    <tr style=\"text-align: right;\">\n",
              "      <th></th>\n",
              "      <th>home_score</th>\n",
              "      <th>away_score</th>\n",
              "      <th>home_rank</th>\n",
              "      <th>away_rank</th>\n",
              "    </tr>\n",
              "  </thead>\n",
              "  <tbody>\n",
              "    <tr>\n",
              "      <th>home_score</th>\n",
              "      <td>1.000000</td>\n",
              "      <td>-0.150475</td>\n",
              "      <td>-0.011730</td>\n",
              "      <td>0.334043</td>\n",
              "    </tr>\n",
              "    <tr>\n",
              "      <th>away_score</th>\n",
              "      <td>-0.150475</td>\n",
              "      <td>1.000000</td>\n",
              "      <td>0.357302</td>\n",
              "      <td>0.014825</td>\n",
              "    </tr>\n",
              "    <tr>\n",
              "      <th>home_rank</th>\n",
              "      <td>-0.011730</td>\n",
              "      <td>0.357302</td>\n",
              "      <td>1.000000</td>\n",
              "      <td>0.596499</td>\n",
              "    </tr>\n",
              "    <tr>\n",
              "      <th>away_rank</th>\n",
              "      <td>0.334043</td>\n",
              "      <td>0.014825</td>\n",
              "      <td>0.596499</td>\n",
              "      <td>1.000000</td>\n",
              "    </tr>\n",
              "  </tbody>\n",
              "</table>\n",
              "</div>"
            ],
            "text/plain": [
              "            home_score  away_score  home_rank  away_rank\n",
              "home_score    1.000000   -0.150475  -0.011730   0.334043\n",
              "away_score   -0.150475    1.000000   0.357302   0.014825\n",
              "home_rank    -0.011730    0.357302   1.000000   0.596499\n",
              "away_rank     0.334043    0.014825   0.596499   1.000000"
            ]
          },
          "metadata": {
            "tags": []
          },
          "execution_count": 506
        }
      ]
    },
    {
      "cell_type": "code",
      "metadata": {
        "id": "lMj4N1V7nOCU",
        "colab_type": "code",
        "colab": {
          "base_uri": "https://localhost:8080/",
          "height": 722
        },
        "outputId": "e1056f20-32a7-4762-8c06-96a5320b9f74"
      },
      "source": [
        "# Plotting visualisation of the matrix for better clarity \n",
        "\n",
        "plt.figure(figsize=(12, 12))  \n",
        "sns.heatmap(CorrMatrix, annot = True) "
      ],
      "execution_count": 507,
      "outputs": [
        {
          "output_type": "execute_result",
          "data": {
            "text/plain": [
              "<matplotlib.axes._subplots.AxesSubplot at 0x7fb929672c50>"
            ]
          },
          "metadata": {
            "tags": []
          },
          "execution_count": 507
        },
        {
          "output_type": "display_data",
          "data": {
            "image/png": "[encoded data removed]",
            "text/plain": [
              "<Figure size 864x864 with 2 Axes>"
            ]
          },
          "metadata": {
            "tags": [],
            "needs_background": "light"
          }
        }
      ]
    },
    {
      "cell_type": "markdown",
      "metadata": {
        "id": "GMtJP1tVKN1b",
        "colab_type": "text"
      },
      "source": [
        "This shows the various correlations of the numerical variables. Home rank and away rank are strongly correlated"
      ]
    },
    {
      "cell_type": "code",
      "metadata": {
        "id": "2hlvIgGongWd",
        "colab_type": "code",
        "colab": {
          "base_uri": "https://localhost:8080/",
          "height": 747
        },
        "outputId": "f867f3c8-0e13-40dc-f0c1-1a6ab7ce00e7"
      },
      "source": [
        "#Plotting pair plots\n",
        "\n",
        "df = pd.DataFrame(fifa3, columns= ['home_score',\t'away_score',\t'home_rank',\t'away_rank'])\n",
        "\n",
        "sns.pairplot(df) \n",
        "plt.show()\n"
      ],
      "execution_count": 508,
      "outputs": [
        {
          "output_type": "display_data",
          "data": {
            "image/png": "[encoded data removed]",
            "text/plain": [
              "<Figure size 720x720 with 20 Axes>"
            ]
          },
          "metadata": {
            "tags": [],
            "needs_background": "light"
          }
        }
      ]
    },
    {
      "cell_type": "markdown",
      "metadata": {
        "id": "lFGRtxxDKdUR",
        "colab_type": "text"
      },
      "source": [
        "Most of the variables are weakly correlated."
      ]
    },
    {
      "cell_type": "markdown",
      "metadata": {
        "id": "QPCNOKb5fzrV",
        "colab_type": "text"
      },
      "source": [
        "## 7. Implementing the Solution"
      ]
    },
    {
      "cell_type": "markdown",
      "metadata": {
        "id": "FbRLxbOrpSiD",
        "colab_type": "text"
      },
      "source": [
        "### a.) Approach 1 : Polynomial Regression"
      ]
    },
    {
      "cell_type": "markdown",
      "metadata": {
        "id": "DxntcchGCxD4",
        "colab_type": "text"
      },
      "source": [
        "#### Model 1: Predict how many goals the home team scores."
      ]
    },
    {
      "cell_type": "code",
      "metadata": {
        "id": "g-meb7_pz2MF",
        "colab_type": "code",
        "colab": {}
      },
      "source": [
        "#Getting the required columns from the dataset\n",
        "X = fifa3['home_rank'].values.reshape(-1,1)\n",
        "y = fifa3['home_score'].values.reshape(-1,1)"
      ],
      "execution_count": 509,
      "outputs": []
    },
    {
      "cell_type": "code",
      "metadata": {
        "id": "KO5BCVrGzuhO",
        "colab_type": "code",
        "colab": {}
      },
      "source": [
        "#Splitting the dataset into train and test sets\n",
        "X_train, y_train, X_test, y_test = train_test_split(X,y, test_size = 0.2, random_state=0)"
      ],
      "execution_count": 510,
      "outputs": []
    },
    {
      "cell_type": "code",
      "metadata": {
        "id": "QMkW6EN92DHX",
        "colab_type": "code",
        "colab": {
          "base_uri": "https://localhost:8080/",
          "height": 295
        },
        "outputId": "6add3c83-21d7-4a93-f7d3-1340b3511f37"
      },
      "source": [
        "#Visualizing the dataset by plotting a scatter plot\n",
        "\n",
        "plt.scatter(X, y, color='blue') \n",
        "plt.title('Home Scores vs Home Rank')\n",
        "plt.xlabel('Home Rank')\n",
        "plt.ylabel('Home Score')\n",
        "plt.show()"
      ],
      "execution_count": 511,
      "outputs": [
        {
          "output_type": "display_data",
          "data": {
            "image/png": "[encoded data removed]",
            "text/plain": [
              "<Figure size 432x288 with 1 Axes>"
            ]
          },
          "metadata": {
            "tags": [],
            "needs_background": "light"
          }
        }
      ]
    },
    {
      "cell_type": "markdown",
      "metadata": {
        "id": "IdmxqnnGM-z2",
        "colab_type": "text"
      },
      "source": [
        "The scatter plot depicts that the data is not linear, therefore, linear regression cannot be applied to this dataset."
      ]
    },
    {
      "cell_type": "code",
      "metadata": {
        "id": "4C4KBWu0LsrS",
        "colab_type": "code",
        "colab": {
          "base_uri": "https://localhost:8080/",
          "height": 297
        },
        "outputId": "0c8cba6b-ad1b-49d8-c9c7-f4e499be0b39"
      },
      "source": [
        "#Doing some manual prediction by  plotting a bar plot\n",
        "sns.barplot(x= 'home_rank', y = 'home_score', data = fifa3)"
      ],
      "execution_count": 512,
      "outputs": [
        {
          "output_type": "execute_result",
          "data": {
            "text/plain": [
              "<matplotlib.axes._subplots.AxesSubplot at 0x7fb928757358>"
            ]
          },
          "metadata": {
            "tags": []
          },
          "execution_count": 512
        },
        {
          "output_type": "display_data",
          "data": {
            "image/png": "[encoded data removed]",
            "text/plain": [
              "<Figure size 432x288 with 1 Axes>"
            ]
          },
          "metadata": {
            "tags": [],
            "needs_background": "light"
          }
        }
      ]
    },
    {
      "cell_type": "markdown",
      "metadata": {
        "id": "lcA4NbgIMcww",
        "colab_type": "text"
      },
      "source": [
        "Most of the home scores are 1 or 2 goals, therefore, 1 or 2 goals is the manual prediction of the number of goals the home team scores."
      ]
    },
    {
      "cell_type": "code",
      "metadata": {
        "id": "86lNuMpd2djf",
        "colab_type": "code",
        "colab": {
          "base_uri": "https://localhost:8080/",
          "height": 312
        },
        "outputId": "a5a1c680-e783-492c-8ac1-299bc93f1d46"
      },
      "source": [
        "#Performing polynomial regression\n",
        "#Fitting polynomial Regression to the dataset\n",
        "poly_reg = PolynomialFeatures(degree = 2) \n",
        "X_poly = poly_reg.fit_transform(X)\n",
        "\n",
        "\n",
        "pol_reg = LinearRegression()\n",
        "pol_reg.fit(X_poly, y)\n",
        "\n",
        "#Visualizing the Polynomial Regression results\n",
        "plt.scatter(X, y, color='blue')\n",
        "plt.plot(X, pol_reg.predict(X_poly), color='red')\n",
        "plt.title('Home Team Scores Prediction')\n",
        "plt.xlabel('Home Team Rank')\n",
        "plt.ylabel('Scores')\n",
        "plt.show()\n",
        "pol_reg.predict(poly_reg.fit_transform([[5.5]]))"
      ],
      "execution_count": 513,
      "outputs": [
        {
          "output_type": "display_data",
          "data": {
            "image/png": "[encoded data removed]",
            "text/plain": [
              "<Figure size 432x288 with 1 Axes>"
            ]
          },
          "metadata": {
            "tags": [],
            "needs_background": "light"
          }
        },
        {
          "output_type": "execute_result",
          "data": {
            "text/plain": [
              "array([[1.61298718]])"
            ]
          },
          "metadata": {
            "tags": []
          },
          "execution_count": 513
        }
      ]
    },
    {
      "cell_type": "markdown",
      "metadata": {
        "id": "tOztxS9qOXNB",
        "colab_type": "text"
      },
      "source": [
        "The curve does not capture any data when a degree of 2 is used."
      ]
    },
    {
      "cell_type": "code",
      "metadata": {
        "id": "lXa5P2mX3CTT",
        "colab_type": "code",
        "colab": {
          "base_uri": "https://localhost:8080/",
          "height": 295
        },
        "outputId": "2eb04cae-2f55-497e-ad03-5e2e539fd91b"
      },
      "source": [
        "#Increasing the degree to 3\n",
        "\n",
        "#Fitting polynomial Regression to the dataset\n",
        "poly_reg = PolynomialFeatures(degree = 3) \n",
        "X_poly = poly_reg.fit_transform(X)\n",
        "\n",
        "\n",
        "pol_reg = LinearRegression()\n",
        "pol_reg.fit(X_poly, y)\n",
        "\n",
        "#Visualizing the Polynomial Regression results\n",
        "plt.scatter(X, y, color='blue')\n",
        "plt.plot(X, pol_reg.predict(X_poly), color='red')\n",
        "plt.title('Home Team Scores Prediction')\n",
        "plt.xlabel('Home Team Rank')\n",
        "plt.ylabel('Scores')\n",
        "plt.show()"
      ],
      "execution_count": 514,
      "outputs": [
        {
          "output_type": "display_data",
          "data": {
            "image/png": "[encoded data removed]",
            "text/plain": [
              "<Figure size 432x288 with 1 Axes>"
            ]
          },
          "metadata": {
            "tags": [],
            "needs_background": "light"
          }
        }
      ]
    },
    {
      "cell_type": "markdown",
      "metadata": {
        "id": "-NZml8XnPYbE",
        "colab_type": "text"
      },
      "source": [
        "Using a degree of 3, the curve captures more datasets than a degree of 2."
      ]
    },
    {
      "cell_type": "code",
      "metadata": {
        "id": "JosqY3UAEzj8",
        "colab_type": "code",
        "colab": {
          "base_uri": "https://localhost:8080/",
          "height": 295
        },
        "outputId": "0cc091fd-267f-4f52-b3df-12a59f7ab71c"
      },
      "source": [
        "#Increasing the degree to 4\n",
        "\n",
        "#Fitting polynomial Regression to the dataset\n",
        "poly_reg4 = PolynomialFeatures(degree = 4) \n",
        "X_poly = poly_reg4.fit_transform(X)\n",
        "\n",
        "\n",
        "pol_reg4 = LinearRegression()\n",
        "pol_reg4.fit(X_poly, y)\n",
        "\n",
        "#Visualizing the Polynomial Regression results\n",
        "plt.scatter(X, y, color='blue')\n",
        "plt.plot(X, pol_reg4.predict(X_poly), color='red')\n",
        "plt.title('Home Team Scores Prediction')\n",
        "plt.xlabel('Home Team Rank')\n",
        "plt.ylabel('Scores')\n",
        "plt.show()"
      ],
      "execution_count": 515,
      "outputs": [
        {
          "output_type": "display_data",
          "data": {
            "image/png": "[encoded data removed]",
            "text/plain": [
              "<Figure size 432x288 with 1 Axes>"
            ]
          },
          "metadata": {
            "tags": [],
            "needs_background": "light"
          }
        }
      ]
    },
    {
      "cell_type": "markdown",
      "metadata": {
        "id": "TE9EmduaPoI0",
        "colab_type": "text"
      },
      "source": [
        "However, the number of datasets the curve touches reduces when a degree of 4 is used."
      ]
    },
    {
      "cell_type": "code",
      "metadata": {
        "id": "2we2--GDTcpX",
        "colab_type": "code",
        "colab": {
          "base_uri": "https://localhost:8080/",
          "height": 295
        },
        "outputId": "1828d0c7-ad08-4d9e-8257-0492d8a81ef1"
      },
      "source": [
        "#Increasing the degree to 5\n",
        "\n",
        "#Fitting polynomial Regression to the dataset\n",
        "poly_reg = PolynomialFeatures(degree = 5) \n",
        "X_poly = poly_reg.fit_transform(X)\n",
        "\n",
        "\n",
        "pol_reg = LinearRegression()\n",
        "pol_reg.fit(X_poly, y)\n",
        "\n",
        "#Visualizing the Polynomial Regression results\n",
        "plt.scatter(X, y, color='blue')\n",
        "plt.plot(X, pol_reg.predict(X_poly), color='red')\n",
        "plt.title('Home Team Scores Prediction')\n",
        "plt.xlabel('Home Team Rank')\n",
        "plt.ylabel('Scores')\n",
        "plt.show()"
      ],
      "execution_count": 516,
      "outputs": [
        {
          "output_type": "display_data",
          "data": {
            "image/png": "[encoded data removed]",
            "text/plain": [
              "<Figure size 432x288 with 1 Axes>"
            ]
          },
          "metadata": {
            "tags": [],
            "needs_background": "light"
          }
        }
      ]
    },
    {
      "cell_type": "markdown",
      "metadata": {
        "id": "KxfiibPYPxnu",
        "colab_type": "text"
      },
      "source": [
        "A degree of 5 results to the curve touching more datasets. Therefore, a degree of 4 is more suitable for this fitting."
      ]
    },
    {
      "cell_type": "code",
      "metadata": {
        "id": "Qt0zNV0X4MVE",
        "colab_type": "code",
        "colab": {
          "base_uri": "https://localhost:8080/",
          "height": 33
        },
        "outputId": "7cf6cf84-ae66-410f-91a4-03a80acb1d29"
      },
      "source": [
        "#Predicting using Polynomial Regression\n",
        "poly_pred = pol_reg4.predict(poly_reg4.fit_transform([[6.5]]))\n",
        "print('Polynomial prediction: %d' %poly_pred)"
      ],
      "execution_count": 517,
      "outputs": [
        {
          "output_type": "stream",
          "text": [
            "Polynomial prediction: 1\n"
          ],
          "name": "stdout"
        }
      ]
    },
    {
      "cell_type": "markdown",
      "metadata": {
        "id": "aV8h36BrQSy5",
        "colab_type": "text"
      },
      "source": [
        "This prediction predicts that the home team scores 1 goal."
      ]
    },
    {
      "cell_type": "markdown",
      "metadata": {
        "id": "iD9wv-B4C66i",
        "colab_type": "text"
      },
      "source": [
        "#### Model 2: Predict how many goals the away team scores.**"
      ]
    },
    {
      "cell_type": "code",
      "metadata": {
        "id": "tSmSQWrGDBBS",
        "colab_type": "code",
        "colab": {}
      },
      "source": [
        "#Getting the required columns from the dataset\n",
        "X = fifa3['away_rank'].values.reshape(-1, 1)\n",
        "y = fifa3['away_score'].values"
      ],
      "execution_count": 518,
      "outputs": []
    },
    {
      "cell_type": "code",
      "metadata": {
        "id": "l8BgNbBSDLz_",
        "colab_type": "code",
        "colab": {}
      },
      "source": [
        "#Splitting the dataset into train and test sets\n",
        "X_train, Y_train, X_test, Y_test = train_test_split(X,y, test_size = 0.2, random_state=0)"
      ],
      "execution_count": 519,
      "outputs": []
    },
    {
      "cell_type": "code",
      "metadata": {
        "id": "_JzJnnkuDO5a",
        "colab_type": "code",
        "colab": {
          "base_uri": "https://localhost:8080/",
          "height": 295
        },
        "outputId": "170c09f8-d038-46f7-cc28-f59f2c5ed65a"
      },
      "source": [
        "#Visualizing the dataset by plotting a scatter plot\n",
        "\n",
        "plt.scatter(X, y, color='blue') \n",
        "plt.title('Scores vs Rank')\n",
        "plt.xlabel('Rank')\n",
        "plt.ylabel('Score')\n",
        "plt.show()"
      ],
      "execution_count": 520,
      "outputs": [
        {
          "output_type": "display_data",
          "data": {
            "image/png": "[encoded data removed]",
            "text/plain": [
              "<Figure size 432x288 with 1 Axes>"
            ]
          },
          "metadata": {
            "tags": [],
            "needs_background": "light"
          }
        }
      ]
    },
    {
      "cell_type": "markdown",
      "metadata": {
        "id": "vDxCfB70RHXo",
        "colab_type": "text"
      },
      "source": [
        "The scatter plot depicts that the data is not linear, therefore, linear regression cannot be applied to this dataset."
      ]
    },
    {
      "cell_type": "code",
      "metadata": {
        "id": "33fKyu9OROGe",
        "colab_type": "code",
        "colab": {
          "base_uri": "https://localhost:8080/",
          "height": 297
        },
        "outputId": "c97a9d12-312f-4ac2-c8a1-d4e131cedf01"
      },
      "source": [
        "#Doing some manual prediction by  plotting a bar plot\n",
        "sns.barplot(x= 'away_rank', y = 'away_score', data = fifa3)"
      ],
      "execution_count": 521,
      "outputs": [
        {
          "output_type": "execute_result",
          "data": {
            "text/plain": [
              "<matplotlib.axes._subplots.AxesSubplot at 0x7fb92813f518>"
            ]
          },
          "metadata": {
            "tags": []
          },
          "execution_count": 521
        },
        {
          "output_type": "display_data",
          "data": {
            "image/png": "[encoded data removed]",
            "text/plain": [
              "<Figure size 432x288 with 1 Axes>"
            ]
          },
          "metadata": {
            "tags": [],
            "needs_background": "light"
          }
        }
      ]
    },
    {
      "cell_type": "markdown",
      "metadata": {
        "id": "9qSFXfgwRXI0",
        "colab_type": "text"
      },
      "source": [
        "Most of the away teams score 1 goal, therefore, 1 goal is the manual prediction of the number of goals an away team scores."
      ]
    },
    {
      "cell_type": "code",
      "metadata": {
        "id": "4hDAhxXbDRhy",
        "colab_type": "code",
        "colab": {
          "base_uri": "https://localhost:8080/",
          "height": 312
        },
        "outputId": "0cf59d6d-dc8e-4189-faab-3e8ad2b464b9"
      },
      "source": [
        "#Performing polynomial regression\n",
        "#Fitting polynomial Regression to the dataset\n",
        "poly_reg2 = PolynomialFeatures(degree = 2) \n",
        "X_poly = poly_reg2.fit_transform(X)\n",
        "\n",
        "\n",
        "pol_reg2 = LinearRegression()\n",
        "pol_reg2.fit(X_poly, y)\n",
        "\n",
        "#Visualizing the Polynomial Regression results\n",
        "plt.scatter(X, y, color='blue')\n",
        "plt.plot(X, pol_reg2.predict(X_poly), color='red')\n",
        "plt.title('Home Team Scores Prediction')\n",
        "plt.xlabel('Home Team Rank')\n",
        "plt.ylabel('Scores')\n",
        "plt.show()\n",
        "pol_reg.predict(poly_reg.fit_transform([[5.5]]))"
      ],
      "execution_count": 522,
      "outputs": [
        {
          "output_type": "display_data",
          "data": {
            "image/png": "[encoded data removed]",
            "text/plain": [
              "<Figure size 432x288 with 1 Axes>"
            ]
          },
          "metadata": {
            "tags": [],
            "needs_background": "light"
          }
        },
        {
          "output_type": "execute_result",
          "data": {
            "text/plain": [
              "array([[1.52680727]])"
            ]
          },
          "metadata": {
            "tags": []
          },
          "execution_count": 522
        }
      ]
    },
    {
      "cell_type": "markdown",
      "metadata": {
        "id": "3NRlEKN9RxQG",
        "colab_type": "text"
      },
      "source": [
        "The curve captures  quite a number of data when a degree of 2 is used."
      ]
    },
    {
      "cell_type": "code",
      "metadata": {
        "id": "AX9UdP8KEbSS",
        "colab_type": "code",
        "colab": {
          "base_uri": "https://localhost:8080/",
          "height": 295
        },
        "outputId": "a5eeaec9-4dfe-4fb9-d145-ed6d650a1faf"
      },
      "source": [
        "#Increasing the degree to 3\n",
        "\n",
        "#Fitting polynomial Regression to the dataset\n",
        "poly_reg = PolynomialFeatures(degree = 3) \n",
        "X_poly = poly_reg.fit_transform(X)\n",
        "\n",
        "\n",
        "pol_reg = LinearRegression()\n",
        "pol_reg.fit(X_poly, y)\n",
        "\n",
        "#Visualizing the Polynomial Regression results\n",
        "plt.scatter(X, y, color='blue')\n",
        "plt.plot(X, pol_reg.predict(X_poly), color='red')\n",
        "plt.title('Home Team Scores Prediction')\n",
        "plt.xlabel('Home Team Rank')\n",
        "plt.ylabel('Scores')\n",
        "plt.show()"
      ],
      "execution_count": 523,
      "outputs": [
        {
          "output_type": "display_data",
          "data": {
            "image/png": "[encoded data removed]",
            "text/plain": [
              "<Figure size 432x288 with 1 Axes>"
            ]
          },
          "metadata": {
            "tags": [],
            "needs_background": "light"
          }
        }
      ]
    },
    {
      "cell_type": "markdown",
      "metadata": {
        "id": "MahY9bCkR38B",
        "colab_type": "text"
      },
      "source": [
        "The curve capture a lot of datasets with a degree of 3, therefore a degree of 2 is suitable to prevent overfitting. "
      ]
    },
    {
      "cell_type": "code",
      "metadata": {
        "id": "5S8VcSk3FsBm",
        "colab_type": "code",
        "colab": {
          "base_uri": "https://localhost:8080/",
          "height": 33
        },
        "outputId": "c6f3a83c-d0f4-4095-82c1-5c6be7e20aa2"
      },
      "source": [
        "#Predicting using Polynomial Regression\n",
        "poly_pred = pol_reg2.predict(poly_reg2.fit_transform([[6.5]]))\n",
        "print('Polynomial prediction: %d' %poly_pred)"
      ],
      "execution_count": 524,
      "outputs": [
        {
          "output_type": "stream",
          "text": [
            "Polynomial prediction: 1\n"
          ],
          "name": "stdout"
        }
      ]
    },
    {
      "cell_type": "markdown",
      "metadata": {
        "id": "zRZAAKJ_SJmd",
        "colab_type": "text"
      },
      "source": [
        "This prediction predicts that the away team scores 1 goal."
      ]
    },
    {
      "cell_type": "markdown",
      "metadata": {
        "id": "b8Zk4HGmCqOC",
        "colab_type": "text"
      },
      "source": [
        "### a.) Approach 2 : Linear Regression"
      ]
    },
    {
      "cell_type": "markdown",
      "metadata": {
        "id": "Dvc1IRe9GPP6",
        "colab_type": "text"
      },
      "source": [
        "#### Feature Engineering: Figure out from the home team’s perspective if the game is a Win, Lose or Draw (W, L, D)"
      ]
    },
    {
      "cell_type": "markdown",
      "metadata": {
        "id": "1fuHzP3iYx1L",
        "colab_type": "text"
      },
      "source": [
        "#### i.) Feature Engineering"
      ]
    },
    {
      "cell_type": "code",
      "metadata": {
        "id": "PyMmSl1hLqQV",
        "colab_type": "code",
        "colab": {
          "base_uri": "https://localhost:8080/",
          "height": 197
        },
        "outputId": "e13f3b95-eba3-440e-d2ba-2da1c877d8fe"
      },
      "source": [
        "#Creating a status column to indicate whether it's a win, lose or draw for the home team\n",
        "\n",
        "#Creating a goals column to indicate the difference of home score and away score\n",
        "fifa3['goals'] = fifa3['home_score'] - fifa3['away_score']\n",
        "\n",
        "#Defining a function that will allocate the win, loss or draw\n",
        "def home_team(goals):\n",
        "    if goals > 0:\n",
        "        return 'Win'\n",
        "    elif goals < 0:\n",
        "        return 'Lose'\n",
        "    else:\n",
        "        return 'Draw'\n",
        "#Calling the function\n",
        "fifa3['status'] = fifa3.goals.apply(lambda i: home_team(i))\n",
        "fifa3.head()"
      ],
      "execution_count": 525,
      "outputs": [
        {
          "output_type": "execute_result",
          "data": {
            "text/html": [
              "<div>\n",
              "<style scoped>\n",
              "    .dataframe tbody tr th:only-of-type {\n",
              "        vertical-align: middle;\n",
              "    }\n",
              "\n",
              "    .dataframe tbody tr th {\n",
              "        vertical-align: top;\n",
              "    }\n",
              "\n",
              "    .dataframe thead th {\n",
              "        text-align: right;\n",
              "    }\n",
              "</style>\n",
              "<table border=\"1\" class=\"dataframe\">\n",
              "  <thead>\n",
              "    <tr style=\"text-align: right;\">\n",
              "      <th></th>\n",
              "      <th>date</th>\n",
              "      <th>home_team</th>\n",
              "      <th>away_team</th>\n",
              "      <th>home_score</th>\n",
              "      <th>away_score</th>\n",
              "      <th>tournament</th>\n",
              "      <th>country</th>\n",
              "      <th>home_rank</th>\n",
              "      <th>away_rank</th>\n",
              "      <th>goals</th>\n",
              "      <th>status</th>\n",
              "    </tr>\n",
              "  </thead>\n",
              "  <tbody>\n",
              "    <tr>\n",
              "      <th>0</th>\n",
              "      <td>1995-07-25</td>\n",
              "      <td>Iraq</td>\n",
              "      <td>Bulgaria</td>\n",
              "      <td>1</td>\n",
              "      <td>0</td>\n",
              "      <td>Merdeka Tournament</td>\n",
              "      <td>Malaysia</td>\n",
              "      <td>98</td>\n",
              "      <td>11</td>\n",
              "      <td>1</td>\n",
              "      <td>Win</td>\n",
              "    </tr>\n",
              "    <tr>\n",
              "      <th>1</th>\n",
              "      <td>1995-08-22</td>\n",
              "      <td>Fiji</td>\n",
              "      <td>Vanuatu</td>\n",
              "      <td>3</td>\n",
              "      <td>1</td>\n",
              "      <td>South Pacific Games</td>\n",
              "      <td>French Polynesia</td>\n",
              "      <td>137</td>\n",
              "      <td>177</td>\n",
              "      <td>2</td>\n",
              "      <td>Win</td>\n",
              "    </tr>\n",
              "    <tr>\n",
              "      <th>2</th>\n",
              "      <td>1996-01-24</td>\n",
              "      <td>Angola</td>\n",
              "      <td>Cameroon</td>\n",
              "      <td>3</td>\n",
              "      <td>3</td>\n",
              "      <td>African Cup of Nations</td>\n",
              "      <td>South Africa</td>\n",
              "      <td>82</td>\n",
              "      <td>32</td>\n",
              "      <td>0</td>\n",
              "      <td>Draw</td>\n",
              "    </tr>\n",
              "    <tr>\n",
              "      <th>3</th>\n",
              "      <td>1996-01-24</td>\n",
              "      <td>Burkina Faso</td>\n",
              "      <td>Algeria</td>\n",
              "      <td>1</td>\n",
              "      <td>2</td>\n",
              "      <td>African Cup of Nations</td>\n",
              "      <td>South Africa</td>\n",
              "      <td>105</td>\n",
              "      <td>44</td>\n",
              "      <td>-1</td>\n",
              "      <td>Lose</td>\n",
              "    </tr>\n",
              "    <tr>\n",
              "      <th>4</th>\n",
              "      <td>1996-01-24</td>\n",
              "      <td>Sierra Leone</td>\n",
              "      <td>Zambia</td>\n",
              "      <td>0</td>\n",
              "      <td>4</td>\n",
              "      <td>African Cup of Nations</td>\n",
              "      <td>South Africa</td>\n",
              "      <td>51</td>\n",
              "      <td>23</td>\n",
              "      <td>-4</td>\n",
              "      <td>Lose</td>\n",
              "    </tr>\n",
              "  </tbody>\n",
              "</table>\n",
              "</div>"
            ],
            "text/plain": [
              "         date     home_team away_team  ...  away_rank  goals status\n",
              "0  1995-07-25          Iraq  Bulgaria  ...         11      1    Win\n",
              "1  1995-08-22          Fiji   Vanuatu  ...        177      2    Win\n",
              "2  1996-01-24        Angola  Cameroon  ...         32      0   Draw\n",
              "3  1996-01-24  Burkina Faso   Algeria  ...         44     -1   Lose\n",
              "4  1996-01-24  Sierra Leone    Zambia  ...         23     -4   Lose\n",
              "\n",
              "[5 rows x 11 columns]"
            ]
          },
          "metadata": {
            "tags": []
          },
          "execution_count": 525
        }
      ]
    },
    {
      "cell_type": "code",
      "metadata": {
        "id": "Ow08zPLwGv9v",
        "colab_type": "code",
        "colab": {
          "base_uri": "https://localhost:8080/",
          "height": 197
        },
        "outputId": "057650d1-93a2-4b3f-accf-b66c45a39b1d"
      },
      "source": [
        "#Encoding categorical features using label encoder\n",
        "#Importing labelencoder\n",
        "from sklearn.preprocessing import LabelEncoder\n",
        "#Instantiating labelencoder object\n",
        "le = LabelEncoder()\n",
        "fifa4 = fifa3.apply(le.fit_transform)\n",
        "fifa4.head()"
      ],
      "execution_count": 526,
      "outputs": [
        {
          "output_type": "execute_result",
          "data": {
            "text/html": [
              "<div>\n",
              "<style scoped>\n",
              "    .dataframe tbody tr th:only-of-type {\n",
              "        vertical-align: middle;\n",
              "    }\n",
              "\n",
              "    .dataframe tbody tr th {\n",
              "        vertical-align: top;\n",
              "    }\n",
              "\n",
              "    .dataframe thead th {\n",
              "        text-align: right;\n",
              "    }\n",
              "</style>\n",
              "<table border=\"1\" class=\"dataframe\">\n",
              "  <thead>\n",
              "    <tr style=\"text-align: right;\">\n",
              "      <th></th>\n",
              "      <th>date</th>\n",
              "      <th>home_team</th>\n",
              "      <th>away_team</th>\n",
              "      <th>home_score</th>\n",
              "      <th>away_score</th>\n",
              "      <th>tournament</th>\n",
              "      <th>country</th>\n",
              "      <th>home_rank</th>\n",
              "      <th>away_rank</th>\n",
              "      <th>goals</th>\n",
              "      <th>status</th>\n",
              "    </tr>\n",
              "  </thead>\n",
              "  <tbody>\n",
              "    <tr>\n",
              "      <th>0</th>\n",
              "      <td>0</td>\n",
              "      <td>31</td>\n",
              "      <td>8</td>\n",
              "      <td>1</td>\n",
              "      <td>0</td>\n",
              "      <td>18</td>\n",
              "      <td>21</td>\n",
              "      <td>65</td>\n",
              "      <td>5</td>\n",
              "      <td>8</td>\n",
              "      <td>2</td>\n",
              "    </tr>\n",
              "    <tr>\n",
              "      <th>1</th>\n",
              "      <td>1</td>\n",
              "      <td>24</td>\n",
              "      <td>78</td>\n",
              "      <td>3</td>\n",
              "      <td>1</td>\n",
              "      <td>24</td>\n",
              "      <td>13</td>\n",
              "      <td>84</td>\n",
              "      <td>89</td>\n",
              "      <td>9</td>\n",
              "      <td>2</td>\n",
              "    </tr>\n",
              "    <tr>\n",
              "      <th>2</th>\n",
              "      <td>2</td>\n",
              "      <td>4</td>\n",
              "      <td>11</td>\n",
              "      <td>3</td>\n",
              "      <td>3</td>\n",
              "      <td>3</td>\n",
              "      <td>34</td>\n",
              "      <td>57</td>\n",
              "      <td>19</td>\n",
              "      <td>7</td>\n",
              "      <td>0</td>\n",
              "    </tr>\n",
              "    <tr>\n",
              "      <th>3</th>\n",
              "      <td>2</td>\n",
              "      <td>13</td>\n",
              "      <td>0</td>\n",
              "      <td>1</td>\n",
              "      <td>2</td>\n",
              "      <td>3</td>\n",
              "      <td>34</td>\n",
              "      <td>69</td>\n",
              "      <td>26</td>\n",
              "      <td>6</td>\n",
              "      <td>1</td>\n",
              "    </tr>\n",
              "    <tr>\n",
              "      <th>4</th>\n",
              "      <td>2</td>\n",
              "      <td>61</td>\n",
              "      <td>81</td>\n",
              "      <td>0</td>\n",
              "      <td>4</td>\n",
              "      <td>3</td>\n",
              "      <td>34</td>\n",
              "      <td>35</td>\n",
              "      <td>12</td>\n",
              "      <td>3</td>\n",
              "      <td>1</td>\n",
              "    </tr>\n",
              "  </tbody>\n",
              "</table>\n",
              "</div>"
            ],
            "text/plain": [
              "   date  home_team  away_team  home_score  ...  home_rank  away_rank  goals  status\n",
              "0     0         31          8           1  ...         65          5      8       2\n",
              "1     1         24         78           3  ...         84         89      9       2\n",
              "2     2          4         11           3  ...         57         19      7       0\n",
              "3     2         13          0           1  ...         69         26      6       1\n",
              "4     2         61         81           0  ...         35         12      3       1\n",
              "\n",
              "[5 rows x 11 columns]"
            ]
          },
          "metadata": {
            "tags": []
          },
          "execution_count": 526
        }
      ]
    },
    {
      "cell_type": "code",
      "metadata": {
        "id": "1TjppQqD5myX",
        "colab_type": "code",
        "colab": {
          "base_uri": "https://localhost:8080/",
          "height": 287
        },
        "outputId": "c5f772b9-fd9e-40a4-ff04-e50298d99faf"
      },
      "source": [
        "#Checking statatical description of the dataset\n",
        "fifa4.describe()"
      ],
      "execution_count": 527,
      "outputs": [
        {
          "output_type": "execute_result",
          "data": {
            "text/html": [
              "<div>\n",
              "<style scoped>\n",
              "    .dataframe tbody tr th:only-of-type {\n",
              "        vertical-align: middle;\n",
              "    }\n",
              "\n",
              "    .dataframe tbody tr th {\n",
              "        vertical-align: top;\n",
              "    }\n",
              "\n",
              "    .dataframe thead th {\n",
              "        text-align: right;\n",
              "    }\n",
              "</style>\n",
              "<table border=\"1\" class=\"dataframe\">\n",
              "  <thead>\n",
              "    <tr style=\"text-align: right;\">\n",
              "      <th></th>\n",
              "      <th>date</th>\n",
              "      <th>home_team</th>\n",
              "      <th>away_team</th>\n",
              "      <th>home_score</th>\n",
              "      <th>away_score</th>\n",
              "      <th>tournament</th>\n",
              "      <th>country</th>\n",
              "      <th>home_rank</th>\n",
              "      <th>away_rank</th>\n",
              "      <th>goals</th>\n",
              "      <th>status</th>\n",
              "    </tr>\n",
              "  </thead>\n",
              "  <tbody>\n",
              "    <tr>\n",
              "      <th>count</th>\n",
              "      <td>138.000000</td>\n",
              "      <td>138.000000</td>\n",
              "      <td>138.000000</td>\n",
              "      <td>138.000000</td>\n",
              "      <td>138.000000</td>\n",
              "      <td>138.000000</td>\n",
              "      <td>138.000000</td>\n",
              "      <td>138.000000</td>\n",
              "      <td>138.000000</td>\n",
              "      <td>138.000000</td>\n",
              "      <td>138.000000</td>\n",
              "    </tr>\n",
              "    <tr>\n",
              "      <th>mean</th>\n",
              "      <td>38.471014</td>\n",
              "      <td>35.304348</td>\n",
              "      <td>39.297101</td>\n",
              "      <td>1.623188</td>\n",
              "      <td>1.231884</td>\n",
              "      <td>11.666667</td>\n",
              "      <td>28.449275</td>\n",
              "      <td>45.956522</td>\n",
              "      <td>44.050725</td>\n",
              "      <td>7.391304</td>\n",
              "      <td>1.217391</td>\n",
              "    </tr>\n",
              "    <tr>\n",
              "      <th>std</th>\n",
              "      <td>19.230523</td>\n",
              "      <td>20.180430</td>\n",
              "      <td>23.183939</td>\n",
              "      <td>1.603841</td>\n",
              "      <td>1.394933</td>\n",
              "      <td>4.644019</td>\n",
              "      <td>14.991517</td>\n",
              "      <td>28.142979</td>\n",
              "      <td>27.050729</td>\n",
              "      <td>2.277900</td>\n",
              "      <td>0.808162</td>\n",
              "    </tr>\n",
              "    <tr>\n",
              "      <th>min</th>\n",
              "      <td>0.000000</td>\n",
              "      <td>0.000000</td>\n",
              "      <td>0.000000</td>\n",
              "      <td>0.000000</td>\n",
              "      <td>0.000000</td>\n",
              "      <td>0.000000</td>\n",
              "      <td>0.000000</td>\n",
              "      <td>0.000000</td>\n",
              "      <td>0.000000</td>\n",
              "      <td>0.000000</td>\n",
              "      <td>0.000000</td>\n",
              "    </tr>\n",
              "    <tr>\n",
              "      <th>25%</th>\n",
              "      <td>22.250000</td>\n",
              "      <td>19.250000</td>\n",
              "      <td>20.000000</td>\n",
              "      <td>0.000000</td>\n",
              "      <td>0.000000</td>\n",
              "      <td>11.000000</td>\n",
              "      <td>12.250000</td>\n",
              "      <td>20.250000</td>\n",
              "      <td>20.250000</td>\n",
              "      <td>6.000000</td>\n",
              "      <td>1.000000</td>\n",
              "    </tr>\n",
              "    <tr>\n",
              "      <th>50%</th>\n",
              "      <td>41.000000</td>\n",
              "      <td>36.000000</td>\n",
              "      <td>38.500000</td>\n",
              "      <td>1.000000</td>\n",
              "      <td>1.000000</td>\n",
              "      <td>12.000000</td>\n",
              "      <td>30.000000</td>\n",
              "      <td>47.000000</td>\n",
              "      <td>44.000000</td>\n",
              "      <td>7.000000</td>\n",
              "      <td>1.000000</td>\n",
              "    </tr>\n",
              "    <tr>\n",
              "      <th>75%</th>\n",
              "      <td>54.000000</td>\n",
              "      <td>48.000000</td>\n",
              "      <td>58.750000</td>\n",
              "      <td>2.000000</td>\n",
              "      <td>2.000000</td>\n",
              "      <td>12.000000</td>\n",
              "      <td>45.000000</td>\n",
              "      <td>67.750000</td>\n",
              "      <td>65.000000</td>\n",
              "      <td>9.000000</td>\n",
              "      <td>2.000000</td>\n",
              "    </tr>\n",
              "    <tr>\n",
              "      <th>max</th>\n",
              "      <td>71.000000</td>\n",
              "      <td>77.000000</td>\n",
              "      <td>81.000000</td>\n",
              "      <td>8.000000</td>\n",
              "      <td>8.000000</td>\n",
              "      <td>27.000000</td>\n",
              "      <td>46.000000</td>\n",
              "      <td>99.000000</td>\n",
              "      <td>94.000000</td>\n",
              "      <td>15.000000</td>\n",
              "      <td>2.000000</td>\n",
              "    </tr>\n",
              "  </tbody>\n",
              "</table>\n",
              "</div>"
            ],
            "text/plain": [
              "             date   home_team   away_team  ...   away_rank       goals      status\n",
              "count  138.000000  138.000000  138.000000  ...  138.000000  138.000000  138.000000\n",
              "mean    38.471014   35.304348   39.297101  ...   44.050725    7.391304    1.217391\n",
              "std     19.230523   20.180430   23.183939  ...   27.050729    2.277900    0.808162\n",
              "min      0.000000    0.000000    0.000000  ...    0.000000    0.000000    0.000000\n",
              "25%     22.250000   19.250000   20.000000  ...   20.250000    6.000000    1.000000\n",
              "50%     41.000000   36.000000   38.500000  ...   44.000000    7.000000    1.000000\n",
              "75%     54.000000   48.000000   58.750000  ...   65.000000    9.000000    2.000000\n",
              "max     71.000000   77.000000   81.000000  ...   94.000000   15.000000    2.000000\n",
              "\n",
              "[8 rows x 11 columns]"
            ]
          },
          "metadata": {
            "tags": []
          },
          "execution_count": 527
        }
      ]
    },
    {
      "cell_type": "markdown",
      "metadata": {
        "id": "4uisw3woYOjW",
        "colab_type": "text"
      },
      "source": [
        "#### ii.) Detecting Multicollinearity"
      ]
    },
    {
      "cell_type": "code",
      "metadata": {
        "id": "3xMUZlhYK76W",
        "colab_type": "code",
        "colab": {
          "base_uri": "https://localhost:8080/",
          "height": 287
        },
        "outputId": "2befafcb-39a2-4ab2-e48b-c4c7ae6d0db7"
      },
      "source": [
        "#Understanding how the independent variables are correlated\n",
        "\n",
        "#Removing the date,country,tournament and status columns, in order to focus on the independent variables\n",
        "independent_only = fifa4.drop(columns=['date','country','status'])\n",
        "\n",
        "#Displaying the correlations between the variables\n",
        "correlations = independent_only.corr()\n",
        "correlations"
      ],
      "execution_count": 528,
      "outputs": [
        {
          "output_type": "execute_result",
          "data": {
            "text/html": [
              "<div>\n",
              "<style scoped>\n",
              "    .dataframe tbody tr th:only-of-type {\n",
              "        vertical-align: middle;\n",
              "    }\n",
              "\n",
              "    .dataframe tbody tr th {\n",
              "        vertical-align: top;\n",
              "    }\n",
              "\n",
              "    .dataframe thead th {\n",
              "        text-align: right;\n",
              "    }\n",
              "</style>\n",
              "<table border=\"1\" class=\"dataframe\">\n",
              "  <thead>\n",
              "    <tr style=\"text-align: right;\">\n",
              "      <th></th>\n",
              "      <th>home_team</th>\n",
              "      <th>away_team</th>\n",
              "      <th>home_score</th>\n",
              "      <th>away_score</th>\n",
              "      <th>tournament</th>\n",
              "      <th>home_rank</th>\n",
              "      <th>away_rank</th>\n",
              "      <th>goals</th>\n",
              "    </tr>\n",
              "  </thead>\n",
              "  <tbody>\n",
              "    <tr>\n",
              "      <th>home_team</th>\n",
              "      <td>1.000000</td>\n",
              "      <td>0.107533</td>\n",
              "      <td>0.089493</td>\n",
              "      <td>-0.169512</td>\n",
              "      <td>-0.166441</td>\n",
              "      <td>-0.116418</td>\n",
              "      <td>0.059326</td>\n",
              "      <td>0.166816</td>\n",
              "    </tr>\n",
              "    <tr>\n",
              "      <th>away_team</th>\n",
              "      <td>0.107533</td>\n",
              "      <td>1.000000</td>\n",
              "      <td>-0.141644</td>\n",
              "      <td>0.132148</td>\n",
              "      <td>-0.038191</td>\n",
              "      <td>0.046301</td>\n",
              "      <td>0.040037</td>\n",
              "      <td>-0.180654</td>\n",
              "    </tr>\n",
              "    <tr>\n",
              "      <th>home_score</th>\n",
              "      <td>0.089493</td>\n",
              "      <td>-0.141644</td>\n",
              "      <td>1.000000</td>\n",
              "      <td>-0.149891</td>\n",
              "      <td>-0.077746</td>\n",
              "      <td>-0.015567</td>\n",
              "      <td>0.316910</td>\n",
              "      <td>0.795877</td>\n",
              "    </tr>\n",
              "    <tr>\n",
              "      <th>away_score</th>\n",
              "      <td>-0.169512</td>\n",
              "      <td>0.132148</td>\n",
              "      <td>-0.149891</td>\n",
              "      <td>1.000000</td>\n",
              "      <td>0.008639</td>\n",
              "      <td>0.301098</td>\n",
              "      <td>-0.000507</td>\n",
              "      <td>-0.717913</td>\n",
              "    </tr>\n",
              "    <tr>\n",
              "      <th>tournament</th>\n",
              "      <td>-0.166441</td>\n",
              "      <td>-0.038191</td>\n",
              "      <td>-0.077746</td>\n",
              "      <td>0.008639</td>\n",
              "      <td>1.000000</td>\n",
              "      <td>0.013627</td>\n",
              "      <td>0.011698</td>\n",
              "      <td>-0.060030</td>\n",
              "    </tr>\n",
              "    <tr>\n",
              "      <th>home_rank</th>\n",
              "      <td>-0.116418</td>\n",
              "      <td>0.046301</td>\n",
              "      <td>-0.015567</td>\n",
              "      <td>0.301098</td>\n",
              "      <td>0.013627</td>\n",
              "      <td>1.000000</td>\n",
              "      <td>0.577300</td>\n",
              "      <td>-0.195346</td>\n",
              "    </tr>\n",
              "    <tr>\n",
              "      <th>away_rank</th>\n",
              "      <td>0.059326</td>\n",
              "      <td>0.040037</td>\n",
              "      <td>0.316910</td>\n",
              "      <td>-0.000507</td>\n",
              "      <td>0.011698</td>\n",
              "      <td>0.577300</td>\n",
              "      <td>1.000000</td>\n",
              "      <td>0.223443</td>\n",
              "    </tr>\n",
              "    <tr>\n",
              "      <th>goals</th>\n",
              "      <td>0.166816</td>\n",
              "      <td>-0.180654</td>\n",
              "      <td>0.795877</td>\n",
              "      <td>-0.717913</td>\n",
              "      <td>-0.060030</td>\n",
              "      <td>-0.195346</td>\n",
              "      <td>0.223443</td>\n",
              "      <td>1.000000</td>\n",
              "    </tr>\n",
              "  </tbody>\n",
              "</table>\n",
              "</div>"
            ],
            "text/plain": [
              "            home_team  away_team  home_score  ...  home_rank  away_rank     goals\n",
              "home_team    1.000000   0.107533    0.089493  ...  -0.116418   0.059326  0.166816\n",
              "away_team    0.107533   1.000000   -0.141644  ...   0.046301   0.040037 -0.180654\n",
              "home_score   0.089493  -0.141644    1.000000  ...  -0.015567   0.316910  0.795877\n",
              "away_score  -0.169512   0.132148   -0.149891  ...   0.301098  -0.000507 -0.717913\n",
              "tournament  -0.166441  -0.038191   -0.077746  ...   0.013627   0.011698 -0.060030\n",
              "home_rank   -0.116418   0.046301   -0.015567  ...   1.000000   0.577300 -0.195346\n",
              "away_rank    0.059326   0.040037    0.316910  ...   0.577300   1.000000  0.223443\n",
              "goals        0.166816  -0.180654    0.795877  ...  -0.195346   0.223443  1.000000\n",
              "\n",
              "[8 rows x 8 columns]"
            ]
          },
          "metadata": {
            "tags": []
          },
          "execution_count": 528
        }
      ]
    },
    {
      "cell_type": "markdown",
      "metadata": {
        "id": "u9T_Eo4FV5MY",
        "colab_type": "text"
      },
      "source": [
        "The table above shows that each variable relates to another."
      ]
    },
    {
      "cell_type": "code",
      "metadata": {
        "id": "E9f5h1O6RHX8",
        "colab_type": "code",
        "colab": {
          "base_uri": "https://localhost:8080/",
          "height": 287
        },
        "outputId": "b0e631f6-5872-488c-e584-72502e8558fa"
      },
      "source": [
        "#Using these correlations to compute the VIF score for each variable.\n",
        "pd.DataFrame(np.linalg.inv(correlations.values), index = correlations.index, columns=correlations.columns)"
      ],
      "execution_count": 529,
      "outputs": [
        {
          "output_type": "execute_result",
          "data": {
            "text/html": [
              "<div>\n",
              "<style scoped>\n",
              "    .dataframe tbody tr th:only-of-type {\n",
              "        vertical-align: middle;\n",
              "    }\n",
              "\n",
              "    .dataframe tbody tr th {\n",
              "        vertical-align: top;\n",
              "    }\n",
              "\n",
              "    .dataframe thead th {\n",
              "        text-align: right;\n",
              "    }\n",
              "</style>\n",
              "<table border=\"1\" class=\"dataframe\">\n",
              "  <thead>\n",
              "    <tr style=\"text-align: right;\">\n",
              "      <th></th>\n",
              "      <th>home_team</th>\n",
              "      <th>away_team</th>\n",
              "      <th>home_score</th>\n",
              "      <th>away_score</th>\n",
              "      <th>tournament</th>\n",
              "      <th>home_rank</th>\n",
              "      <th>away_rank</th>\n",
              "      <th>goals</th>\n",
              "    </tr>\n",
              "  </thead>\n",
              "  <tbody>\n",
              "    <tr>\n",
              "      <th>home_team</th>\n",
              "      <td>1.100811</td>\n",
              "      <td>-0.137371</td>\n",
              "      <td>1.799456e-02</td>\n",
              "      <td>9.706812e-02</td>\n",
              "      <td>0.173688</td>\n",
              "      <td>0.176805</td>\n",
              "      <td>-0.153963</td>\n",
              "      <td>-6.913624e-02</td>\n",
              "    </tr>\n",
              "    <tr>\n",
              "      <th>away_team</th>\n",
              "      <td>-0.137371</td>\n",
              "      <td>1.064766</td>\n",
              "      <td>8.694284e-02</td>\n",
              "      <td>-6.718310e-02</td>\n",
              "      <td>0.034081</td>\n",
              "      <td>0.055580</td>\n",
              "      <td>-0.125117</td>\n",
              "      <td>1.343662e-01</td>\n",
              "    </tr>\n",
              "    <tr>\n",
              "      <th>home_score</th>\n",
              "      <td>0.023876</td>\n",
              "      <td>0.074401</td>\n",
              "      <td>-1.860508e+14</td>\n",
              "      <td>1.618168e+14</td>\n",
              "      <td>0.042526</td>\n",
              "      <td>0.187152</td>\n",
              "      <td>-0.324973</td>\n",
              "      <td>2.642440e+14</td>\n",
              "    </tr>\n",
              "    <tr>\n",
              "      <th>away_score</th>\n",
              "      <td>0.097413</td>\n",
              "      <td>-0.058946</td>\n",
              "      <td>1.618168e+14</td>\n",
              "      <td>-1.407394e+14</td>\n",
              "      <td>0.065726</td>\n",
              "      <td>-0.365018</td>\n",
              "      <td>0.033144</td>\n",
              "      <td>-2.298249e+14</td>\n",
              "    </tr>\n",
              "    <tr>\n",
              "      <th>tournament</th>\n",
              "      <td>0.173688</td>\n",
              "      <td>0.034081</td>\n",
              "      <td>4.378546e-02</td>\n",
              "      <td>6.463129e-02</td>\n",
              "      <td>1.038142</td>\n",
              "      <td>0.049923</td>\n",
              "      <td>-0.084272</td>\n",
              "      <td>7.963690e-02</td>\n",
              "    </tr>\n",
              "    <tr>\n",
              "      <th>home_rank</th>\n",
              "      <td>0.176805</td>\n",
              "      <td>0.055580</td>\n",
              "      <td>1.964735e-01</td>\n",
              "      <td>-3.731248e-01</td>\n",
              "      <td>0.049923</td>\n",
              "      <td>1.855750</td>\n",
              "      <td>-1.188968</td>\n",
              "      <td>1.874838e-01</td>\n",
              "    </tr>\n",
              "    <tr>\n",
              "      <th>away_rank</th>\n",
              "      <td>-0.153963</td>\n",
              "      <td>-0.125117</td>\n",
              "      <td>-3.526672e-01</td>\n",
              "      <td>5.723125e-02</td>\n",
              "      <td>-0.084272</td>\n",
              "      <td>-1.188968</td>\n",
              "      <td>1.888018</td>\n",
              "      <td>-3.343365e-01</td>\n",
              "    </tr>\n",
              "    <tr>\n",
              "      <th>goals</th>\n",
              "      <td>-0.078151</td>\n",
              "      <td>0.154597</td>\n",
              "      <td>2.642440e+14</td>\n",
              "      <td>-2.298249e+14</td>\n",
              "      <td>0.081425</td>\n",
              "      <td>0.200723</td>\n",
              "      <td>-0.373670</td>\n",
              "      <td>-3.753000e+14</td>\n",
              "    </tr>\n",
              "  </tbody>\n",
              "</table>\n",
              "</div>"
            ],
            "text/plain": [
              "            home_team  away_team  ...  away_rank         goals\n",
              "home_team    1.100811  -0.137371  ...  -0.153963 -6.913624e-02\n",
              "away_team   -0.137371   1.064766  ...  -0.125117  1.343662e-01\n",
              "home_score   0.023876   0.074401  ...  -0.324973  2.642440e+14\n",
              "away_score   0.097413  -0.058946  ...   0.033144 -2.298249e+14\n",
              "tournament   0.173688   0.034081  ...  -0.084272  7.963690e-02\n",
              "home_rank    0.176805   0.055580  ...  -1.188968  1.874838e-01\n",
              "away_rank   -0.153963  -0.125117  ...   1.888018 -3.343365e-01\n",
              "goals       -0.078151   0.154597  ...  -0.373670 -3.753000e+14\n",
              "\n",
              "[8 rows x 8 columns]"
            ]
          },
          "metadata": {
            "tags": []
          },
          "execution_count": 529
        }
      ]
    },
    {
      "cell_type": "markdown",
      "metadata": {
        "id": "qXowv2_zWKk-",
        "colab_type": "text"
      },
      "source": [
        "The VIF scores range between 1.8 and -3.75. None of the VIF scores are above 5 hence we can't remove any of the variables to improve the VIF scores."
      ]
    },
    {
      "cell_type": "markdown",
      "metadata": {
        "id": "TDg0YM_pY_Mv",
        "colab_type": "text"
      },
      "source": [
        "#### iii.) Building the model"
      ]
    },
    {
      "cell_type": "code",
      "metadata": {
        "id": "-CzjmIyECpTF",
        "colab_type": "code",
        "colab": {
          "base_uri": "https://localhost:8080/",
          "height": 295
        },
        "outputId": "28188a63-2d56-42b4-8a32-26fcfd65914d"
      },
      "source": [
        "#Visualizing the relationship between home score and status\n",
        "\n",
        "#Plotting a scatter plot\n",
        "fifa4.plot(x='home_score', y='status', style='o')\n",
        "plt.title('Home Score VS Status ')\n",
        "plt.xlabel('Home score')\n",
        "plt.ylabel('Status')\n",
        "plt.show()"
      ],
      "execution_count": 530,
      "outputs": [
        {
          "output_type": "display_data",
          "data": {
            "image/png": "[encoded data removed]",
            "text/plain": [
              "<Figure size 432x288 with 1 Axes>"
            ]
          },
          "metadata": {
            "tags": [],
            "needs_background": "light"
          }
        }
      ]
    },
    {
      "cell_type": "markdown",
      "metadata": {
        "id": "GHjy5yFPZwPl",
        "colab_type": "text"
      },
      "source": [
        "The scatter plots depict a weak correlation of these two variables."
      ]
    },
    {
      "cell_type": "code",
      "metadata": {
        "id": "7DjhFTmlYPbg",
        "colab_type": "code",
        "colab": {}
      },
      "source": [
        "#Building a linear regression model\n",
        "\n",
        "#Setting up the training and test sets\n",
        "from sklearn.model_selection import train_test_split\n",
        "\n",
        "X = fifa4.values\n",
        "y = fifa4['status'].values\n",
        "\n",
        "#20% of the data will be used as test, the rest will be the training set\n",
        "X_train, X_test, y_train, y_test = train_test_split(X, y, test_size=0.2, random_state=0)"
      ],
      "execution_count": 531,
      "outputs": []
    },
    {
      "cell_type": "code",
      "metadata": {
        "id": "2IGu3dWEYm6u",
        "colab_type": "code",
        "colab": {
          "base_uri": "https://localhost:8080/",
          "height": 83
        },
        "outputId": "ab36b767-4136-44f9-89e6-878bf9ad2106"
      },
      "source": [
        "#creating a regressor object, and train it using the train data\n",
        "from sklearn.linear_model import LinearRegression\n",
        "\n",
        "regressor = LinearRegression()\n",
        "\n",
        "regressor.fit(X_train, y_train)\n",
        "\n",
        "#display the intercept / bias\n",
        "print(regressor.intercept_)\n",
        "\n",
        "#display the coefficient\n",
        "print(regressor.coef_)"
      ],
      "execution_count": 532,
      "outputs": [
        {
          "output_type": "stream",
          "text": [
            "3.197442310920451e-14\n",
            "[ 1.35005791e-17 -2.94902991e-17  3.13334428e-17  4.81811314e-15\n",
            " -4.02290506e-15 -2.60208521e-18 -3.92481186e-17 -1.73472348e-17\n",
            " -1.64798730e-17 -4.46452771e-15  1.00000000e+00]\n"
          ],
          "name": "stdout"
        }
      ]
    },
    {
      "cell_type": "code",
      "metadata": {
        "id": "_MGS_uK2Y0hg",
        "colab_type": "code",
        "colab": {
          "base_uri": "https://localhost:8080/",
          "height": 287
        },
        "outputId": "1d006d6c-2215-4722-cb80-5644a0ad526c"
      },
      "source": [
        "#Feed the model the data saved for testing.\n",
        "y_predict = regressor.predict(X_test)\n",
        "\n",
        "#We will have the model predict the status based on the home scores set aside\n",
        "comparison_frame = pd.DataFrame({'Actual': y_test.flatten(), 'Predicted': y_predict.flatten()})\n",
        "\n",
        "#Comparing that to the actual status from the original dataset.\n",
        "comparison_frame.describe()"
      ],
      "execution_count": 533,
      "outputs": [
        {
          "output_type": "execute_result",
          "data": {
            "text/html": [
              "<div>\n",
              "<style scoped>\n",
              "    .dataframe tbody tr th:only-of-type {\n",
              "        vertical-align: middle;\n",
              "    }\n",
              "\n",
              "    .dataframe tbody tr th {\n",
              "        vertical-align: top;\n",
              "    }\n",
              "\n",
              "    .dataframe thead th {\n",
              "        text-align: right;\n",
              "    }\n",
              "</style>\n",
              "<table border=\"1\" class=\"dataframe\">\n",
              "  <thead>\n",
              "    <tr style=\"text-align: right;\">\n",
              "      <th></th>\n",
              "      <th>Actual</th>\n",
              "      <th>Predicted</th>\n",
              "    </tr>\n",
              "  </thead>\n",
              "  <tbody>\n",
              "    <tr>\n",
              "      <th>count</th>\n",
              "      <td>28.000000</td>\n",
              "      <td>2.800000e+01</td>\n",
              "    </tr>\n",
              "    <tr>\n",
              "      <th>mean</th>\n",
              "      <td>1.428571</td>\n",
              "      <td>1.428571e+00</td>\n",
              "    </tr>\n",
              "    <tr>\n",
              "      <th>std</th>\n",
              "      <td>0.741798</td>\n",
              "      <td>7.417982e-01</td>\n",
              "    </tr>\n",
              "    <tr>\n",
              "      <th>min</th>\n",
              "      <td>0.000000</td>\n",
              "      <td>-2.338601e-15</td>\n",
              "    </tr>\n",
              "    <tr>\n",
              "      <th>25%</th>\n",
              "      <td>1.000000</td>\n",
              "      <td>1.000000e+00</td>\n",
              "    </tr>\n",
              "    <tr>\n",
              "      <th>50%</th>\n",
              "      <td>2.000000</td>\n",
              "      <td>2.000000e+00</td>\n",
              "    </tr>\n",
              "    <tr>\n",
              "      <th>75%</th>\n",
              "      <td>2.000000</td>\n",
              "      <td>2.000000e+00</td>\n",
              "    </tr>\n",
              "    <tr>\n",
              "      <th>max</th>\n",
              "      <td>2.000000</td>\n",
              "      <td>2.000000e+00</td>\n",
              "    </tr>\n",
              "  </tbody>\n",
              "</table>\n",
              "</div>"
            ],
            "text/plain": [
              "          Actual     Predicted\n",
              "count  28.000000  2.800000e+01\n",
              "mean    1.428571  1.428571e+00\n",
              "std     0.741798  7.417982e-01\n",
              "min     0.000000 -2.338601e-15\n",
              "25%     1.000000  1.000000e+00\n",
              "50%     2.000000  2.000000e+00\n",
              "75%     2.000000  2.000000e+00\n",
              "max     2.000000  2.000000e+00"
            ]
          },
          "metadata": {
            "tags": []
          },
          "execution_count": 533
        }
      ]
    },
    {
      "cell_type": "markdown",
      "metadata": {
        "id": "ZdTi7zFSbi9d",
        "colab_type": "text"
      },
      "source": [
        "The model accurately predicts most values except the min hence it's not a bad model."
      ]
    },
    {
      "cell_type": "code",
      "metadata": {
        "id": "hEbItx-sZpsZ",
        "colab_type": "code",
        "colab": {
          "base_uri": "https://localhost:8080/",
          "height": 67
        },
        "outputId": "3864ea88-dc17-4456-f439-495574075efc"
      },
      "source": [
        "#Calculating the metrics for linear regression\n",
        "from sklearn import metrics\n",
        "\n",
        "#The first metric is MAE - Mean absolute error\n",
        "print('Mean Absolute Error:', metrics.mean_absolute_error(y_test, y_predict))\n",
        "\n",
        "#The second is MSE - Mean squared error\n",
        "print('Mean Squared Error:', metrics.mean_squared_error(y_test, y_predict))  \n",
        "\n",
        "#Finally, the RMSE - Root mean squared error\n",
        "print('Root Mean Squared Error:', np.sqrt(metrics.mean_squared_error(y_test, y_predict)))  "
      ],
      "execution_count": 534,
      "outputs": [
        {
          "output_type": "stream",
          "text": [
            "Mean Absolute Error: 1.1680785844647463e-15\n",
            "Mean Squared Error: 1.7644854397485493e-30\n",
            "Root Mean Squared Error: 1.3283393541367918e-15\n"
          ],
          "name": "stdout"
        }
      ]
    },
    {
      "cell_type": "markdown",
      "metadata": {
        "id": "8VPwVyaEcj2u",
        "colab_type": "text"
      },
      "source": [
        "An RMSE of 1.3283393541367918e-15 is acceptable as it is less than 10% of the mean of the dependent variable(status) which is 1.369565"
      ]
    },
    {
      "cell_type": "markdown",
      "metadata": {
        "id": "CtPOrywOdGfu",
        "colab_type": "text"
      },
      "source": [
        "#### iv.) Cross_Validating the model"
      ]
    },
    {
      "cell_type": "code",
      "metadata": {
        "id": "2YzqtTwz46vh",
        "colab_type": "code",
        "colab": {
          "base_uri": "https://localhost:8080/",
          "height": 283
        },
        "outputId": "216a6f5c-a6cf-4eeb-c3dd-be8bb6376a20"
      },
      "source": [
        "#Using k-fold cross-validation with 5 folds\n",
        "from sklearn.model_selection import KFold\n",
        "\n",
        "#Using the independent variables for this\n",
        "X = fifa4.values\n",
        "y = fifa4['status'].values\n",
        "\n",
        "folds = KFold(n_splits=5)\n",
        "\n",
        "#Using get_n_splits to figure out how many folds is set up\n",
        "print('we are using ' +str(folds.get_n_splits(X)) + ' folds')\n",
        "\n",
        "#Creating and assessing 5 models based on the folds created.\n",
        "RMSES = [] #Using this array to keep track of the RSME of each model\n",
        "count = 1\n",
        "for train_index, test_index in folds.split(X):\n",
        "  print('\\nTraining model ' + str(count))\n",
        "  \n",
        "  #Setting up the train and test based on the split determined by KFold\n",
        "  #With 5 folds, we will end up with 80% of our data in the training set, and 20% in the test set\n",
        "  X_train, X_test = X[train_index], X[test_index]\n",
        "  y_train, y_test = y[train_index], y[test_index]\n",
        "  \n",
        "  #Fitting a model accordingly\n",
        "  regressor = LinearRegression()  \n",
        "  regressor.fit(X_train, y_train)\n",
        "  \n",
        "  #Assessing the accuracy of the model\n",
        "  y_pred = regressor.predict(X_test)\n",
        "  \n",
        "  rmse_value =  np.sqrt(metrics.mean_squared_error(y_test, y_pred))\n",
        "  RMSES.append(rmse_value)\n",
        "  \n",
        "  print('Model ' + str(count) + ' Root Mean Squared Error:',rmse_value)\n",
        "  count = count + 1"
      ],
      "execution_count": 535,
      "outputs": [
        {
          "output_type": "stream",
          "text": [
            "we are using 5 folds\n",
            "\n",
            "Training model 1\n",
            "Model 1 Root Mean Squared Error: 1.1206361772999182e-15\n",
            "\n",
            "Training model 2\n",
            "Model 2 Root Mean Squared Error: 1.2513419048884276e-15\n",
            "\n",
            "Training model 3\n",
            "Model 3 Root Mean Squared Error: 1.6844823245958365e-15\n",
            "\n",
            "Training model 4\n",
            "Model 4 Root Mean Squared Error: 1.1311728836156352e-15\n",
            "\n",
            "Training model 5\n",
            "Model 5 Root Mean Squared Error: 1.7810922298580953e-15\n"
          ],
          "name": "stdout"
        }
      ]
    },
    {
      "cell_type": "markdown",
      "metadata": {
        "id": "mR39IxNQem4B",
        "colab_type": "text"
      },
      "source": [
        "The RMSEs acquired have a slight difference with the previously acquired RMSE. The 1st, 2nd and 4th model have smaller RMSE."
      ]
    },
    {
      "cell_type": "code",
      "metadata": {
        "id": "8rwE6lNZ5FIN",
        "colab_type": "code",
        "colab": {
          "base_uri": "https://localhost:8080/",
          "height": 33
        },
        "outputId": "4d304ba4-0ba0-4119-a16b-d5f511e42a7f"
      },
      "source": [
        "#Computing the avergae RMSE of all the models\n",
        "np.mean(RMSES)"
      ],
      "execution_count": 536,
      "outputs": [
        {
          "output_type": "execute_result",
          "data": {
            "text/plain": [
              "1.3937451040515824e-15"
            ]
          },
          "metadata": {
            "tags": []
          },
          "execution_count": 536
        }
      ]
    },
    {
      "cell_type": "markdown",
      "metadata": {
        "id": "qR1eHGSxfUFW",
        "colab_type": "text"
      },
      "source": [
        "The average RMSE is almost the same as the initial RMSE."
      ]
    },
    {
      "cell_type": "markdown",
      "metadata": {
        "id": "KYQuhVB7fmfG",
        "colab_type": "text"
      },
      "source": [
        "Performing a variant of k-fold, Leave One Out Cross Validation(LOOCV)"
      ]
    },
    {
      "cell_type": "code",
      "metadata": {
        "id": "s-lPkAcD6Bn4",
        "colab_type": "code",
        "colab": {
          "base_uri": "https://localhost:8080/",
          "height": 67
        },
        "outputId": "06358778-547a-4573-a19c-121bec99351a"
      },
      "source": [
        "from sklearn.model_selection import LeaveOneOut\n",
        "\n",
        "#Using the same independent variables for this\n",
        "X = fifa4.values\n",
        "y = fifa4['status'].values\n",
        "\n",
        "folds = LeaveOneOut()\n",
        "\n",
        "#Using get_n_splits to figure out how many folds is set up\n",
        "print('we are using ' +str(folds.get_n_splits(X)) + ' folds')\n",
        "\n",
        "#Creating and assessing 5 models based on the folds created.\n",
        "RMSES = [] # We will use this array to keep track of the RSME of each model\n",
        "count = 0 \n",
        "for train_index, test_index in folds.split(X):\n",
        "  \n",
        "  #Setting up the train and test based on the split determined by KFold\n",
        "  #With 5 folds, we will end up with 80% of our data in the training set, and 20% in the test set\n",
        "  X_train, X_test = X[train_index], X[test_index]\n",
        "  y_train, y_test = y[train_index], y[test_index]\n",
        "  \n",
        "  #Fitting a model accordingly\n",
        "  regressor = LinearRegression()  \n",
        "  regressor.fit(X_train, y_train)\n",
        "  \n",
        "  #Assessing the accuraccy of the model\n",
        "  y_pred = regressor.predict(X_test)\n",
        "  \n",
        "  rmse_value =  np.sqrt(metrics.mean_squared_error(y_test, y_pred))\n",
        "  RMSES.append(rmse_value)\n",
        "  \n",
        "  count = count + 1\n",
        "print('trained ' + str(count) + ' models' )\n",
        "np.mean(RMSES)"
      ],
      "execution_count": 537,
      "outputs": [
        {
          "output_type": "stream",
          "text": [
            "we are using 138 folds\n",
            "trained 138 models\n"
          ],
          "name": "stdout"
        },
        {
          "output_type": "execute_result",
          "data": {
            "text/plain": [
              "1.4404121919186753e-15"
            ]
          },
          "metadata": {
            "tags": []
          },
          "execution_count": 537
        }
      ]
    },
    {
      "cell_type": "code",
      "metadata": {
        "id": "vxq_T8116Od-",
        "colab_type": "code",
        "colab": {
          "base_uri": "https://localhost:8080/",
          "height": 290
        },
        "outputId": "82516cea-e6be-4ff4-aecd-4a47ac0582fd"
      },
      "source": [
        "import matplotlib.pyplot as plt\n",
        "\n",
        "plt.plot(RMSES)\n",
        "plt.ylabel('RMSE value')\n",
        "plt.xlabel('model ID')\n",
        "plt.show()"
      ],
      "execution_count": 538,
      "outputs": [
        {
          "output_type": "display_data",
          "data": {
            "image/png": "[encoded data removed]",
            "text/plain": [
              "<Figure size 432x288 with 1 Axes>"
            ]
          },
          "metadata": {
            "tags": [],
            "needs_background": "light"
          }
        }
      ]
    },
    {
      "cell_type": "markdown",
      "metadata": {
        "id": "MlEfqIEGgoKZ",
        "colab_type": "text"
      },
      "source": [
        "This indicates that it would be challenging to create a model that beats the  1.3283393541367918e-15 average RMSE using this dataset."
      ]
    },
    {
      "cell_type": "markdown",
      "metadata": {
        "id": "hgv5E_k4XtuU",
        "colab_type": "text"
      },
      "source": [
        "#### v.) Residual plots and heteroskedasticity testing"
      ]
    },
    {
      "cell_type": "code",
      "metadata": {
        "id": "hFTLjuZIat9n",
        "colab_type": "code",
        "colab": {
          "base_uri": "https://localhost:8080/",
          "height": 33
        },
        "outputId": "0e82f871-b99c-4705-e9bc-dc5626d66052"
      },
      "source": [
        "#Creating the residual by substracting the test value from the predicted value for each row in our dataset\n",
        "\n",
        "residuals = np.subtract(y_predict, y_test)\n",
        "\n",
        "# Let's describe our residual:\n",
        "pd.DataFrame(residuals).describe()\n",
        "\n",
        "residuals.mean()"
      ],
      "execution_count": 539,
      "outputs": [
        {
          "output_type": "execute_result",
          "data": {
            "text/plain": [
              "0.42857142857142805"
            ]
          },
          "metadata": {
            "tags": []
          },
          "execution_count": 539
        }
      ]
    },
    {
      "cell_type": "markdown",
      "metadata": {
        "id": "DxfbTUJ_heeu",
        "colab_type": "text"
      },
      "source": [
        "This mean is close to 0, indicating that we tend to be correct and over estimating chances by, on average, 42.85%"
      ]
    },
    {
      "cell_type": "code",
      "metadata": {
        "id": "gksQff_8bUU1",
        "colab_type": "code",
        "colab": {
          "base_uri": "https://localhost:8080/",
          "height": 279
        },
        "outputId": "45c6cb06-d87b-493d-afe6-3cce705bd986"
      },
      "source": [
        "import matplotlib.pyplot as plt\n",
        "\n",
        "plt.scatter(y_predict, residuals, color='black')\n",
        "plt.ylabel('residual')\n",
        "plt.xlabel('fitted values')\n",
        "plt.axhline(y= residuals.mean(), color='red', linewidth=1)\n",
        "plt.show()"
      ],
      "execution_count": 540,
      "outputs": [
        {
          "output_type": "display_data",
          "data": {
            "image/png": "[encoded data removed]",
            "text/plain": [
              "<Figure size 432x288 with 1 Axes>"
            ]
          },
          "metadata": {
            "tags": [],
            "needs_background": "light"
          }
        }
      ]
    },
    {
      "cell_type": "markdown",
      "metadata": {
        "id": "xzVImumOiKyJ",
        "colab_type": "text"
      },
      "source": [
        "This looks too bad:the residuals are not centered around a mean and there are no obvious patterns. However performing a heteroskedasticity test will be more thorough."
      ]
    },
    {
      "cell_type": "code",
      "metadata": {
        "id": "XTOsQ-HMbgPL",
        "colab_type": "code",
        "colab": {
          "base_uri": "https://localhost:8080/",
          "height": 50
        },
        "outputId": "df55f258-8967-45ce-87e2-0f5bcc0fbaf4"
      },
      "source": [
        "#Performing a heteroskedasticity test\n",
        "#Using bartlett's test to establish a null hypothesis that the variance is equal for all the datapoints,\n",
        "#and the new hypothesis that the variance is different for at least one pair of datapoints.\n",
        "import scipy as sp\n",
        "\n",
        "test_result, p_value = sp.stats.bartlett(y_predict, residuals)\n",
        "\n",
        "#Computing a critical value of the chi squared distribution  to interpret the results\n",
        "degree_of_freedom = len(y_predict)-1\n",
        "probability = 1 - p_value\n",
        "\n",
        "critical_value = sp.stats.chi2.ppf(probability, degree_of_freedom)\n",
        "print(p_value)\n",
        "\n",
        "#If the test_result is greater than the critical value, then we reject our null\n",
        "#hypothesis. This would mean that there are patterns to the variance of the data\n",
        "\n",
        "#Otherwise, we can identify no patterns, and we accept the null hypothesis that \n",
        "#the variance is homogeneous across our data\n",
        "\n",
        "if (test_result > critical_value):\n",
        "  print('The variances are unequal, and the model should be reassessed')\n",
        "else:\n",
        "  print('The variances are homogeneous!')"
      ],
      "execution_count": 541,
      "outputs": [
        {
          "output_type": "stream",
          "text": [
            "1.0\n",
            "The variances are homogeneous!\n"
          ],
          "name": "stdout"
        }
      ]
    },
    {
      "cell_type": "markdown",
      "metadata": {
        "id": "aZqNlnkojELZ",
        "colab_type": "text"
      },
      "source": [
        "The variances are homogeneous hence no patterns can be identified in the dataset"
      ]
    },
    {
      "cell_type": "markdown",
      "metadata": {
        "id": "EllSkF-qje9z",
        "colab_type": "text"
      },
      "source": [
        "## 8. Challenging the solution"
      ]
    },
    {
      "cell_type": "markdown",
      "metadata": {
        "id": "a3G7HMBLjzE1",
        "colab_type": "text"
      },
      "source": [
        "Better Results would have been achieved if outliers were not present while creating the models.\n",
        "\n",
        "In addition, having a larger dataset after merging and cleaning would have helped in achieving better results."
      ]
    },
    {
      "cell_type": "markdown",
      "metadata": {
        "id": "qlmS7RlFjkP8",
        "colab_type": "text"
      },
      "source": [
        "## 9. Follow up questions"
      ]
    },
    {
      "cell_type": "markdown",
      "metadata": {
        "id": "KlcEqa0yjsa9",
        "colab_type": "text"
      },
      "source": [
        "### a). Did we have the right data?\n",
        "\n",
        "Yes, we had the right data to answer the questions given and perform accuarate analysis."
      ]
    },
    {
      "cell_type": "markdown",
      "metadata": {
        "id": "T3HgbLhdjwDl",
        "colab_type": "text"
      },
      "source": [
        "### b). Do we need other data to answer our question?\n",
        "\n",
        "No, the data provided covers the requirements of the question."
      ]
    },
    {
      "cell_type": "markdown",
      "metadata": {
        "id": "uJvGRwv7jzwh",
        "colab_type": "text"
      },
      "source": [
        "### c). Did we have the right question?\n",
        "Yes, we had the right question and it is very relevant."
      ]
    }
  ]
}